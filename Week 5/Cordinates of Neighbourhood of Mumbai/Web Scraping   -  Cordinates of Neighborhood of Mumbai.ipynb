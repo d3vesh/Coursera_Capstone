{
 "cells": [
  {
   "cell_type": "code",
   "execution_count": 2,
   "metadata": {},
   "outputs": [],
   "source": [
    "import os\n",
    "from selenium import webdriver\n",
    "from selenium.webdriver.common.keys import Keys\n",
    "from bs4 import BeautifulSoup\n",
    "import time\n",
    "import numpy as np\n",
    "import pandas as pd\n",
    ""
   ]
  },
  {
   "cell_type": "code",
   "execution_count": null,
   "metadata": {},
   "outputs": [],
   "source": [
    "# place_df = pd.read_csv(\"mumbai_property_price.csv\")"
   ]
  },
  {
   "cell_type": "code",
   "execution_count": 80,
   "metadata": {},
   "outputs": [],
   "source": [
    "###\n",
    "p = run2"
   ]
  },
  {
   "cell_type": "code",
   "execution_count": null,
   "metadata": {},
   "outputs": [],
   "source": [
    "Name = place_df[\"Locality Name\"].to_list()\n",
    "print(len(Name))\n",
    "\n",
    "Name[:10]"
   ]
  },
  {
   "cell_type": "code",
   "execution_count": 81,
   "metadata": {},
   "outputs": [],
   "source": [
    "# Open tab in full screen (maximized)\n",
    "chrome_options = webdriver.ChromeOptions()\n",
    "chrome_options.add_argument(\"start-maximized\")"
   ]
  },
  {
   "cell_type": "code",
   "execution_count": 82,
   "metadata": {},
   "outputs": [],
   "source": [
    "# Instantiate Selenium Webdriver\n",
    "driver = webdriver.Chrome(options = chrome_options , executable_path = r\"\\chromedriver.exe\")"
   ]
  },
  {
   "cell_type": "code",
   "execution_count": 83,
   "metadata": {},
   "outputs": [],
   "source": [
    "driver.get(\"http://www.google.com\")\n"
   ]
  },
  {
   "cell_type": "code",
   "execution_count": 84,
   "metadata": {},
   "outputs": [],
   "source": [
    "###\n",
    "place_name = p\n",
    "cordinates_place = {\"name\":[],\"lat\":[],\"long\":[]}"
   ]
  },
  {
   "cell_type": "code",
   "execution_count": 85,
   "metadata": {},
   "outputs": [],
   "source": [
    "def cordinate_s(cord,name):\n",
    "    na = \"Not Available\"\n",
    "    cord_list = [ ]\n",
    "    for i in cord:\n",
    "        l = i.split( u\"\\N{DEGREE SIGN}\")[0]\n",
    "        cord_list.append(l)\n",
    "    if len(cord_list)== 0:\n",
    "        lat = na\n",
    "        long = na\n",
    "    else:\n",
    "        try:\n",
    "            lat = cord_list[0]\n",
    "        except:\n",
    "            lat = na\n",
    "            \n",
    "        try:\n",
    "            long = cord_list[1]\n",
    "        except:\n",
    "            long = na\n",
    "\n",
    "    return lat,long"
   ]
  },
  {
   "cell_type": "code",
   "execution_count": 86,
   "metadata": {},
   "outputs": [],
   "source": [
    "for name in place_name:\n",
    "    \n",
    "    cordinates_place[\"name\"].append(name)\n",
    "    \n",
    "    # get the search textbox\n",
    "    search_field = driver.find_element_by_name(\"q\")\n",
    "    \n",
    "    time.sleep(2)\n",
    "    \n",
    "    # enter search keyword and submit\n",
    "    search_field.send_keys(name +\" mumbai latitude and longitude\")\n",
    "    search_field.submit()\n",
    "    \n",
    "      # wait\n",
    "    time.sleep(2)\n",
    "    \n",
    "    # Get page soure\n",
    "    source = driver.page_source\n",
    "\n",
    "    soup = BeautifulSoup(source,\"html.parser\")\n",
    "\n",
    "    cordinates_web = soup.find(\"div\",attrs = {\"class\":\"Z0LcW\"})\n",
    "    \n",
    "    if cordinates_web:\n",
    "\n",
    "        co = cordinates_web.text.split(\",\")\n",
    "\n",
    "        latitude,longitude = cordinate_s(co,name)\n",
    "\n",
    "        cordinates_place[\"lat\"].append(latitude)\n",
    "        cordinates_place[\"long\"].append(longitude)\n",
    "        \n",
    "    else:\n",
    "        cordinates_place[\"lat\"].append(\"Not Available\")\n",
    "        cordinates_place[\"long\"].append(\"Not Available\")\n",
    "    \n",
    "    driver.execute_script(\"window.history.go(-1)\")\n",
    "    \n",
    "    time.sleep(3)"
   ]
  },
  {
   "cell_type": "code",
   "execution_count": 87,
   "metadata": {},
   "outputs": [
    {
     "output_type": "execute_result",
     "data": {
      "text/plain": "{'name': ['Ambawadi',\n  'Ambedkar Nagar',\n  'Anand Nagar',\n  'Belpada',\n  'Chikholi',\n  'Gandhi Nagar',\n  'Ganesh Nagar',\n  'Geeta Nagar',\n  'Hanuman Nagar',\n  'Kailash Nagar',\n  'Laxmi Nagar',\n  'Manda',\n  'Moti Nagar',\n  'Nehru Nagar',\n  'Palm Beach',\n  'Pant Nagar',\n  'Radha Nagar',\n  'Satya Nagar',\n  'Shastri Nagar',\n  'Siddharth Nagar',\n  'Sunder Nagar',\n  'Tilak Nagar',\n  'Vaishali Nagar',\n  'Vasant Vihar',\n  'Vinay Nagar',\n  'Adarsh Nagar',\n  'Ajit Nagar',\n  'Ashok Nagar',\n  'Bhadra Nagar',\n  'Chakradhar Nagar',\n  'Friends Colony',\n  'Govind Nagar',\n  'Gulmohar Colony',\n  'Hira Nagar',\n  'Industrial Area',\n  'Kailash Colony',\n  'Kanakiya',\n  'Kanti Nagar',\n  'Mahesh Nagar',\n  'Mandvi',\n  'Patel Nagar',\n  'Rajendra Nagar',\n  'Ratan Nagar',\n  'Sarvodaya Nagar',\n  'Sector 19B',\n  'Shiv Colony',\n  'Subhash Nagar',\n  'Suyog Nagar',\n  'Thakurwadi',\n  'Valmiki Nagar',\n  'Vijay Nagar',\n  'Virat Nagar',\n  'Vrindavan',\n  'Yadav Nagar',\n  'Yamuna Nagar'],\n 'lat': ['19.2411',\n  '19.0730',\n  '19.2557',\n  '19.0395',\n  '19.0760',\n  '19.0585',\n  '19.1327',\n  '18.9121',\n  '19.1954',\n  '19.1973',\n  '19.1608',\n  '19.0760',\n  '19.1674',\n  '19.0640',\n  'Not Available',\n  '19.0845',\n  '19.1230',\n  '19.2160',\n  '19.1394',\n  '19.1596',\n  '19.1758',\n  '19.0683',\n  '19.1441',\n  '19.2245',\n  '19.1144',\n  '19.0147',\n  '19.1103',\n  '19.1782',\n  'Not Available',\n  '19.0760',\n  '19.1486',\n  '19.2354',\n  '19.1196',\n  '19.1610',\n  '19.1334',\n  '19.0760',\n  '19.0188',\n  '19.1063',\n  '19.1721',\n  '18.9522',\n  '19.1379',\n  '19.2197',\n  '19.1267',\n  '19.1641',\n  'Not Available',\n  '19.0760',\n  '19.0683',\n  '19.3708',\n  'Not Available',\n  '19.0660',\n  '19.1144',\n  'Not Available',\n  '19.0511',\n  '19.1089',\n  '19.1488'],\n 'long': [' 72.8600',\n  ' 72.8789',\n  ' 72.8656',\n  ' 73.0576',\n  ' 72.8777',\n  ' 72.8479',\n  ' 72.8796',\n  ' 72.8064',\n  ' 72.8671',\n  ' 72.8439',\n  ' 72.8323',\n  ' 72.8777',\n  ' 72.9350',\n  ' 72.8826',\n  'Not Available',\n  ' 72.9105',\n  ' 72.8611',\n  ' 72.8419',\n  ' 72.8294',\n  ' 72.8410',\n  ' 72.8419',\n  ' 72.8973',\n  ' 72.8445',\n  ' 72.9682',\n  ' 72.8497',\n  ' 72.8216',\n  ' 72.8681',\n  ' 72.9571',\n  'Not Available',\n  ' 72.8777',\n  ' 72.9483',\n  ' 72.8493',\n  ' 72.8323',\n  ' 72.9472',\n  ' 72.8346',\n  ' 72.8777',\n  ' 72.8479',\n  ' 72.8671',\n  ' 72.8435',\n  ' 72.8387',\n  ' 72.8213',\n  ' 72.8589',\n  ' 72.8242',\n  ' 72.9453',\n  'Not Available',\n  ' 72.8777',\n  ' 72.8973',\n  ' 72.8172',\n  'Not Available',\n  ' 72.8549',\n  ' 72.8497',\n  'Not Available',\n  ' 72.8676',\n  ' 72.8936',\n  ' 72.8268']}"
     },
     "metadata": {},
     "execution_count": 87
    }
   ],
   "source": [
    "cordinates_place"
   ]
  },
  {
   "cell_type": "code",
   "execution_count": 88,
   "metadata": {},
   "outputs": [],
   "source": [
    "#run 1 - completed\n",
    "# run 2 - completed (switch code: #123)\n",
    "df = pd.DataFrame(cordinates_place)"
   ]
  },
  {
   "cell_type": "code",
   "execution_count": 89,
   "metadata": {},
   "outputs": [
    {
     "output_type": "execute_result",
     "data": {
      "text/plain": "                name            lat           long\n0           Ambawadi        19.2411        72.8600\n1     Ambedkar Nagar        19.0730        72.8789\n2        Anand Nagar        19.2557        72.8656\n3            Belpada        19.0395        73.0576\n4           Chikholi        19.0760        72.8777\n5       Gandhi Nagar        19.0585        72.8479\n6       Ganesh Nagar        19.1327        72.8796\n7        Geeta Nagar        18.9121        72.8064\n8      Hanuman Nagar        19.1954        72.8671\n9      Kailash Nagar        19.1973        72.8439\n10       Laxmi Nagar        19.1608        72.8323\n11             Manda        19.0760        72.8777\n12        Moti Nagar        19.1674        72.9350\n13       Nehru Nagar        19.0640        72.8826\n14        Palm Beach  Not Available  Not Available\n15        Pant Nagar        19.0845        72.9105\n16       Radha Nagar        19.1230        72.8611\n17       Satya Nagar        19.2160        72.8419\n18     Shastri Nagar        19.1394        72.8294\n19   Siddharth Nagar        19.1596        72.8410\n20      Sunder Nagar        19.1758        72.8419\n21       Tilak Nagar        19.0683        72.8973\n22    Vaishali Nagar        19.1441        72.8445\n23      Vasant Vihar        19.2245        72.9682\n24       Vinay Nagar        19.1144        72.8497\n25      Adarsh Nagar        19.0147        72.8216\n26        Ajit Nagar        19.1103        72.8681\n27       Ashok Nagar        19.1782        72.9571\n28      Bhadra Nagar  Not Available  Not Available\n29  Chakradhar Nagar        19.0760        72.8777\n30    Friends Colony        19.1486        72.9483\n31      Govind Nagar        19.2354        72.8493\n32   Gulmohar Colony        19.1196        72.8323\n33        Hira Nagar        19.1610        72.9472\n34   Industrial Area        19.1334        72.8346\n35    Kailash Colony        19.0760        72.8777\n36          Kanakiya        19.0188        72.8479\n37       Kanti Nagar        19.1063        72.8671\n38      Mahesh Nagar        19.1721        72.8435\n39            Mandvi        18.9522        72.8387\n40       Patel Nagar        19.1379        72.8213\n41    Rajendra Nagar        19.2197        72.8589\n42       Ratan Nagar        19.1267        72.8242\n43   Sarvodaya Nagar        19.1641        72.9453\n44        Sector 19B  Not Available  Not Available\n45       Shiv Colony        19.0760        72.8777\n46     Subhash Nagar        19.0683        72.8973\n47       Suyog Nagar        19.3708        72.8172\n48        Thakurwadi  Not Available  Not Available\n49     Valmiki Nagar        19.0660        72.8549\n50       Vijay Nagar        19.1144        72.8497\n51       Virat Nagar  Not Available  Not Available\n52         Vrindavan        19.0511        72.8676\n53       Yadav Nagar        19.1089        72.8936\n54      Yamuna Nagar        19.1488        72.8268",
      "text/html": "<div>\n<style scoped>\n    .dataframe tbody tr th:only-of-type {\n        vertical-align: middle;\n    }\n\n    .dataframe tbody tr th {\n        vertical-align: top;\n    }\n\n    .dataframe thead th {\n        text-align: right;\n    }\n</style>\n<table border=\"1\" class=\"dataframe\">\n  <thead>\n    <tr style=\"text-align: right;\">\n      <th></th>\n      <th>name</th>\n      <th>lat</th>\n      <th>long</th>\n    </tr>\n  </thead>\n  <tbody>\n    <tr>\n      <td>0</td>\n      <td>Ambawadi</td>\n      <td>19.2411</td>\n      <td>72.8600</td>\n    </tr>\n    <tr>\n      <td>1</td>\n      <td>Ambedkar Nagar</td>\n      <td>19.0730</td>\n      <td>72.8789</td>\n    </tr>\n    <tr>\n      <td>2</td>\n      <td>Anand Nagar</td>\n      <td>19.2557</td>\n      <td>72.8656</td>\n    </tr>\n    <tr>\n      <td>3</td>\n      <td>Belpada</td>\n      <td>19.0395</td>\n      <td>73.0576</td>\n    </tr>\n    <tr>\n      <td>4</td>\n      <td>Chikholi</td>\n      <td>19.0760</td>\n      <td>72.8777</td>\n    </tr>\n    <tr>\n      <td>5</td>\n      <td>Gandhi Nagar</td>\n      <td>19.0585</td>\n      <td>72.8479</td>\n    </tr>\n    <tr>\n      <td>6</td>\n      <td>Ganesh Nagar</td>\n      <td>19.1327</td>\n      <td>72.8796</td>\n    </tr>\n    <tr>\n      <td>7</td>\n      <td>Geeta Nagar</td>\n      <td>18.9121</td>\n      <td>72.8064</td>\n    </tr>\n    <tr>\n      <td>8</td>\n      <td>Hanuman Nagar</td>\n      <td>19.1954</td>\n      <td>72.8671</td>\n    </tr>\n    <tr>\n      <td>9</td>\n      <td>Kailash Nagar</td>\n      <td>19.1973</td>\n      <td>72.8439</td>\n    </tr>\n    <tr>\n      <td>10</td>\n      <td>Laxmi Nagar</td>\n      <td>19.1608</td>\n      <td>72.8323</td>\n    </tr>\n    <tr>\n      <td>11</td>\n      <td>Manda</td>\n      <td>19.0760</td>\n      <td>72.8777</td>\n    </tr>\n    <tr>\n      <td>12</td>\n      <td>Moti Nagar</td>\n      <td>19.1674</td>\n      <td>72.9350</td>\n    </tr>\n    <tr>\n      <td>13</td>\n      <td>Nehru Nagar</td>\n      <td>19.0640</td>\n      <td>72.8826</td>\n    </tr>\n    <tr>\n      <td>14</td>\n      <td>Palm Beach</td>\n      <td>Not Available</td>\n      <td>Not Available</td>\n    </tr>\n    <tr>\n      <td>15</td>\n      <td>Pant Nagar</td>\n      <td>19.0845</td>\n      <td>72.9105</td>\n    </tr>\n    <tr>\n      <td>16</td>\n      <td>Radha Nagar</td>\n      <td>19.1230</td>\n      <td>72.8611</td>\n    </tr>\n    <tr>\n      <td>17</td>\n      <td>Satya Nagar</td>\n      <td>19.2160</td>\n      <td>72.8419</td>\n    </tr>\n    <tr>\n      <td>18</td>\n      <td>Shastri Nagar</td>\n      <td>19.1394</td>\n      <td>72.8294</td>\n    </tr>\n    <tr>\n      <td>19</td>\n      <td>Siddharth Nagar</td>\n      <td>19.1596</td>\n      <td>72.8410</td>\n    </tr>\n    <tr>\n      <td>20</td>\n      <td>Sunder Nagar</td>\n      <td>19.1758</td>\n      <td>72.8419</td>\n    </tr>\n    <tr>\n      <td>21</td>\n      <td>Tilak Nagar</td>\n      <td>19.0683</td>\n      <td>72.8973</td>\n    </tr>\n    <tr>\n      <td>22</td>\n      <td>Vaishali Nagar</td>\n      <td>19.1441</td>\n      <td>72.8445</td>\n    </tr>\n    <tr>\n      <td>23</td>\n      <td>Vasant Vihar</td>\n      <td>19.2245</td>\n      <td>72.9682</td>\n    </tr>\n    <tr>\n      <td>24</td>\n      <td>Vinay Nagar</td>\n      <td>19.1144</td>\n      <td>72.8497</td>\n    </tr>\n    <tr>\n      <td>25</td>\n      <td>Adarsh Nagar</td>\n      <td>19.0147</td>\n      <td>72.8216</td>\n    </tr>\n    <tr>\n      <td>26</td>\n      <td>Ajit Nagar</td>\n      <td>19.1103</td>\n      <td>72.8681</td>\n    </tr>\n    <tr>\n      <td>27</td>\n      <td>Ashok Nagar</td>\n      <td>19.1782</td>\n      <td>72.9571</td>\n    </tr>\n    <tr>\n      <td>28</td>\n      <td>Bhadra Nagar</td>\n      <td>Not Available</td>\n      <td>Not Available</td>\n    </tr>\n    <tr>\n      <td>29</td>\n      <td>Chakradhar Nagar</td>\n      <td>19.0760</td>\n      <td>72.8777</td>\n    </tr>\n    <tr>\n      <td>30</td>\n      <td>Friends Colony</td>\n      <td>19.1486</td>\n      <td>72.9483</td>\n    </tr>\n    <tr>\n      <td>31</td>\n      <td>Govind Nagar</td>\n      <td>19.2354</td>\n      <td>72.8493</td>\n    </tr>\n    <tr>\n      <td>32</td>\n      <td>Gulmohar Colony</td>\n      <td>19.1196</td>\n      <td>72.8323</td>\n    </tr>\n    <tr>\n      <td>33</td>\n      <td>Hira Nagar</td>\n      <td>19.1610</td>\n      <td>72.9472</td>\n    </tr>\n    <tr>\n      <td>34</td>\n      <td>Industrial Area</td>\n      <td>19.1334</td>\n      <td>72.8346</td>\n    </tr>\n    <tr>\n      <td>35</td>\n      <td>Kailash Colony</td>\n      <td>19.0760</td>\n      <td>72.8777</td>\n    </tr>\n    <tr>\n      <td>36</td>\n      <td>Kanakiya</td>\n      <td>19.0188</td>\n      <td>72.8479</td>\n    </tr>\n    <tr>\n      <td>37</td>\n      <td>Kanti Nagar</td>\n      <td>19.1063</td>\n      <td>72.8671</td>\n    </tr>\n    <tr>\n      <td>38</td>\n      <td>Mahesh Nagar</td>\n      <td>19.1721</td>\n      <td>72.8435</td>\n    </tr>\n    <tr>\n      <td>39</td>\n      <td>Mandvi</td>\n      <td>18.9522</td>\n      <td>72.8387</td>\n    </tr>\n    <tr>\n      <td>40</td>\n      <td>Patel Nagar</td>\n      <td>19.1379</td>\n      <td>72.8213</td>\n    </tr>\n    <tr>\n      <td>41</td>\n      <td>Rajendra Nagar</td>\n      <td>19.2197</td>\n      <td>72.8589</td>\n    </tr>\n    <tr>\n      <td>42</td>\n      <td>Ratan Nagar</td>\n      <td>19.1267</td>\n      <td>72.8242</td>\n    </tr>\n    <tr>\n      <td>43</td>\n      <td>Sarvodaya Nagar</td>\n      <td>19.1641</td>\n      <td>72.9453</td>\n    </tr>\n    <tr>\n      <td>44</td>\n      <td>Sector 19B</td>\n      <td>Not Available</td>\n      <td>Not Available</td>\n    </tr>\n    <tr>\n      <td>45</td>\n      <td>Shiv Colony</td>\n      <td>19.0760</td>\n      <td>72.8777</td>\n    </tr>\n    <tr>\n      <td>46</td>\n      <td>Subhash Nagar</td>\n      <td>19.0683</td>\n      <td>72.8973</td>\n    </tr>\n    <tr>\n      <td>47</td>\n      <td>Suyog Nagar</td>\n      <td>19.3708</td>\n      <td>72.8172</td>\n    </tr>\n    <tr>\n      <td>48</td>\n      <td>Thakurwadi</td>\n      <td>Not Available</td>\n      <td>Not Available</td>\n    </tr>\n    <tr>\n      <td>49</td>\n      <td>Valmiki Nagar</td>\n      <td>19.0660</td>\n      <td>72.8549</td>\n    </tr>\n    <tr>\n      <td>50</td>\n      <td>Vijay Nagar</td>\n      <td>19.1144</td>\n      <td>72.8497</td>\n    </tr>\n    <tr>\n      <td>51</td>\n      <td>Virat Nagar</td>\n      <td>Not Available</td>\n      <td>Not Available</td>\n    </tr>\n    <tr>\n      <td>52</td>\n      <td>Vrindavan</td>\n      <td>19.0511</td>\n      <td>72.8676</td>\n    </tr>\n    <tr>\n      <td>53</td>\n      <td>Yadav Nagar</td>\n      <td>19.1089</td>\n      <td>72.8936</td>\n    </tr>\n    <tr>\n      <td>54</td>\n      <td>Yamuna Nagar</td>\n      <td>19.1488</td>\n      <td>72.8268</td>\n    </tr>\n  </tbody>\n</table>\n</div>"
     },
     "metadata": {},
     "execution_count": 89
    }
   ],
   "source": [
    "df"
   ]
  },
  {
   "cell_type": "code",
   "execution_count": 90,
   "metadata": {},
   "outputs": [
    {
     "output_type": "stream",
     "name": "stdout",
     "text": "9    23.0224\nName: latitude, dtype: object\n10    26.4684\nName: latitude, dtype: object\n18    27.1023\nName: latitude, dtype: object\n37    20.2524\nName: latitude, dtype: object\n70    20.3491\nName: latitude, dtype: object\n110    23.2156\nName: latitude, dtype: object\n111    28.6246\nName: latitude, dtype: object\n116    20.3716\nName: latitude, dtype: object\n130    25.5876\nName: latitude, dtype: object\n159    28.6653\nName: latitude, dtype: object\n214    28.6276\nName: latitude, dtype: object\n233    25.0982\nName: latitude, dtype: object\n252    28.6623\nName: latitude, dtype: object\n271    28.6534\nName: latitude, dtype: object\n286    26.7056\nName: latitude, dtype: object\n290    29.0222\nName: latitude, dtype: object\n310    23.3837\nName: latitude, dtype: object\n335    20.2804\nName: latitude, dtype: object\n478    28.6746\nName: latitude, dtype: object\n486    27.2716\nName: latitude, dtype: object\n490    31.5299\nName: latitude, dtype: object\n505    28.6389\nName: latitude, dtype: object\n515    26.9048\nName: latitude, dtype: object\n525    28.5603\nName: latitude, dtype: object\n536    26.2314\nName: latitude, dtype: object\n554    28.7193\nName: latitude, dtype: object\n557    30.6496\nName: latitude, dtype: object\n567    24.5775\nName: latitude, dtype: object\n580    29.1043\nName: latitude, dtype: object\n585    21.8963\nName: latitude, dtype: object\n609    28.5675\nName: latitude, dtype: object\n621    26.4492\nName: latitude, dtype: object\n623    23.1844\nName: latitude, dtype: object\n632    32.4556\nName: latitude, dtype: object\n637    28.7887\nName: latitude, dtype: object\n644    28.5535\nName: latitude, dtype: object\n648    20.83\nName: latitude, dtype: object\n649    28.667\nName: latitude, dtype: object\n682    26.8788\nName: latitude, dtype: object\n684    22.8333\nName: latitude, dtype: object\n724    28.6554\nName: latitude, dtype: object\n736    25.6068\nName: latitude, dtype: object\n739    28.214\nName: latitude, dtype: object\n748    26.883\nName: latitude, dtype: object\n759    28.5764\nName: latitude, dtype: object\n849    26.8717\nName: latitude, dtype: object\n858    28.6404\nName: latitude, dtype: object\n862    21.1086\nName: latitude, dtype: object\n869    20.0154\nName: latitude, dtype: object\n880    27.4266\nName: latitude, dtype: object\n888    22.7533\nName: latitude, dtype: object\n890    27.431\nName: latitude, dtype: object\n892    27.565\nName: latitude, dtype: object\n898    28.75\nName: latitude, dtype: object\n899    30.129\nName: latitude, dtype: object\n"
    }
   ],
   "source": [
    "for p in df.name:\n",
    "    # print(df.loc[df[\"name\"] == p,\"lat\"])\n",
    "    print( data.loc[data[\"name\"] == p,\"latitude\"])"
   ]
  },
  {
   "cell_type": "code",
   "execution_count": 91,
   "metadata": {},
   "outputs": [
    {
     "output_type": "execute_result",
     "data": {
      "text/plain": "{'name': {0: 'Ambawadi',\n  1: 'Ambedkar Nagar',\n  2: 'Anand Nagar',\n  3: 'Belpada',\n  4: 'Chikholi',\n  5: 'Gandhi Nagar',\n  6: 'Ganesh Nagar',\n  7: 'Geeta Nagar',\n  8: 'Hanuman Nagar',\n  9: 'Kailash Nagar',\n  10: 'Laxmi Nagar',\n  11: 'Manda',\n  12: 'Moti Nagar',\n  13: 'Nehru Nagar',\n  14: 'Palm Beach',\n  15: 'Pant Nagar',\n  16: 'Radha Nagar',\n  17: 'Satya Nagar',\n  18: 'Shastri Nagar',\n  19: 'Siddharth Nagar',\n  20: 'Sunder Nagar',\n  21: 'Tilak Nagar',\n  22: 'Vaishali Nagar',\n  23: 'Vasant Vihar',\n  24: 'Vinay Nagar',\n  25: 'Adarsh Nagar',\n  26: 'Ajit Nagar',\n  27: 'Ashok Nagar',\n  28: 'Bhadra Nagar',\n  29: 'Chakradhar Nagar',\n  30: 'Friends Colony',\n  31: 'Govind Nagar',\n  32: 'Gulmohar Colony',\n  33: 'Hira Nagar',\n  34: 'Industrial Area',\n  35: 'Kailash Colony',\n  36: 'Kanakiya',\n  37: 'Kanti Nagar',\n  38: 'Mahesh Nagar',\n  39: 'Mandvi',\n  40: 'Patel Nagar',\n  41: 'Rajendra Nagar',\n  42: 'Ratan Nagar',\n  43: 'Sarvodaya Nagar',\n  44: 'Sector 19B',\n  45: 'Shiv Colony',\n  46: 'Subhash Nagar',\n  47: 'Suyog Nagar',\n  48: 'Thakurwadi',\n  49: 'Valmiki Nagar',\n  50: 'Vijay Nagar',\n  51: 'Virat Nagar',\n  52: 'Vrindavan',\n  53: 'Yadav Nagar',\n  54: 'Yamuna Nagar'},\n 'lat': {0: '19.2411',\n  1: '19.0730',\n  2: '19.2557',\n  3: '19.0395',\n  4: '19.0760',\n  5: '19.0585',\n  6: '19.1327',\n  7: '18.9121',\n  8: '19.1954',\n  9: '19.1973',\n  10: '19.1608',\n  11: '19.0760',\n  12: '19.1674',\n  13: '19.0640',\n  14: 'Not Available',\n  15: '19.0845',\n  16: '19.1230',\n  17: '19.2160',\n  18: '19.1394',\n  19: '19.1596',\n  20: '19.1758',\n  21: '19.0683',\n  22: '19.1441',\n  23: '19.2245',\n  24: '19.1144',\n  25: '19.0147',\n  26: '19.1103',\n  27: '19.1782',\n  28: 'Not Available',\n  29: '19.0760',\n  30: '19.1486',\n  31: '19.2354',\n  32: '19.1196',\n  33: '19.1610',\n  34: '19.1334',\n  35: '19.0760',\n  36: '19.0188',\n  37: '19.1063',\n  38: '19.1721',\n  39: '18.9522',\n  40: '19.1379',\n  41: '19.2197',\n  42: '19.1267',\n  43: '19.1641',\n  44: 'Not Available',\n  45: '19.0760',\n  46: '19.0683',\n  47: '19.3708',\n  48: 'Not Available',\n  49: '19.0660',\n  50: '19.1144',\n  51: 'Not Available',\n  52: '19.0511',\n  53: '19.1089',\n  54: '19.1488'},\n 'long': {0: ' 72.8600',\n  1: ' 72.8789',\n  2: ' 72.8656',\n  3: ' 73.0576',\n  4: ' 72.8777',\n  5: ' 72.8479',\n  6: ' 72.8796',\n  7: ' 72.8064',\n  8: ' 72.8671',\n  9: ' 72.8439',\n  10: ' 72.8323',\n  11: ' 72.8777',\n  12: ' 72.9350',\n  13: ' 72.8826',\n  14: 'Not Available',\n  15: ' 72.9105',\n  16: ' 72.8611',\n  17: ' 72.8419',\n  18: ' 72.8294',\n  19: ' 72.8410',\n  20: ' 72.8419',\n  21: ' 72.8973',\n  22: ' 72.8445',\n  23: ' 72.9682',\n  24: ' 72.8497',\n  25: ' 72.8216',\n  26: ' 72.8681',\n  27: ' 72.9571',\n  28: 'Not Available',\n  29: ' 72.8777',\n  30: ' 72.9483',\n  31: ' 72.8493',\n  32: ' 72.8323',\n  33: ' 72.9472',\n  34: ' 72.8346',\n  35: ' 72.8777',\n  36: ' 72.8479',\n  37: ' 72.8671',\n  38: ' 72.8435',\n  39: ' 72.8387',\n  40: ' 72.8213',\n  41: ' 72.8589',\n  42: ' 72.8242',\n  43: ' 72.9453',\n  44: 'Not Available',\n  45: ' 72.8777',\n  46: ' 72.8973',\n  47: ' 72.8172',\n  48: 'Not Available',\n  49: ' 72.8549',\n  50: ' 72.8497',\n  51: 'Not Available',\n  52: ' 72.8676',\n  53: ' 72.8936',\n  54: ' 72.8268'}}"
     },
     "metadata": {},
     "execution_count": 91
    }
   ],
   "source": [
    "df.to_dict()"
   ]
  },
  {
   "cell_type": "code",
   "execution_count": 92,
   "metadata": {},
   "outputs": [],
   "source": [
    "for p,ind in zip(df.name,df.index):\n",
    "    # data.loc[data[\"name\"] == p,\"latitude\"] = df.loc[df[\"name\"] == p,\"lat\"]\n",
    "    # data.loc[data[\"name\"] == p,\"longitude\"] = df.loc[df[\"name\"] == p,\"long\"]\n",
    "\n",
    "    data.loc[data[\"name\"] == p,\"latitude\"] = df.to_dict()[\"lat\"][ind]\n",
    "    \n",
    "    data.loc[data[\"name\"] == p,\"longitude\"] = df.to_dict()[\"long\"][ind]\n",
    "    "
   ]
  },
  {
   "cell_type": "code",
   "execution_count": 94,
   "metadata": {},
   "outputs": [
    {
     "output_type": "execute_result",
     "data": {
      "text/plain": "             name latitude longitude\n525  Vasant Vihar  19.2245   72.9682",
      "text/html": "<div>\n<style scoped>\n    .dataframe tbody tr th:only-of-type {\n        vertical-align: middle;\n    }\n\n    .dataframe tbody tr th {\n        vertical-align: top;\n    }\n\n    .dataframe thead th {\n        text-align: right;\n    }\n</style>\n<table border=\"1\" class=\"dataframe\">\n  <thead>\n    <tr style=\"text-align: right;\">\n      <th></th>\n      <th>name</th>\n      <th>latitude</th>\n      <th>longitude</th>\n    </tr>\n  </thead>\n  <tbody>\n    <tr>\n      <td>525</td>\n      <td>Vasant Vihar</td>\n      <td>19.2245</td>\n      <td>72.9682</td>\n    </tr>\n  </tbody>\n</table>\n</div>"
     },
     "metadata": {},
     "execution_count": 94
    }
   ],
   "source": [
    "data[data[\"name\"] ==\"Vasant Vihar\"]"
   ]
  },
  {
   "cell_type": "code",
   "execution_count": 3,
   "metadata": {},
   "outputs": [],
   "source": [
    "data = pd.read_csv(\"Place_Cordinates.csv\")"
   ]
  },
  {
   "cell_type": "code",
   "execution_count": 5,
   "metadata": {},
   "outputs": [
    {
     "output_type": "execute_result",
     "data": {
      "text/plain": "     Unnamed: 0               name  latitude  longitude\n0             0         4 Bunglows   19.1247    72.8264\n1             1  Aarey Milk Colony   19.1510    72.8831\n2             2    Abhyudaya Nagar   18.9914    72.8442\n3             3           Adaigaon   19.0086    73.1282\n4             4          Adharwadi   19.2570    73.1240\n..          ...                ...       ...        ...\n897         909      Worli Seaface   19.0091    72.8157\n898         910        Yadav Nagar   28.7500    77.1406\n899         911       Yamuna Nagar   30.1290    77.2674\n900         912          Yashodham   19.1694    72.8679\n901         913    Yashodhan Nagar   19.2110    72.9542\n\n[902 rows x 4 columns]",
      "text/html": "<div>\n<style scoped>\n    .dataframe tbody tr th:only-of-type {\n        vertical-align: middle;\n    }\n\n    .dataframe tbody tr th {\n        vertical-align: top;\n    }\n\n    .dataframe thead th {\n        text-align: right;\n    }\n</style>\n<table border=\"1\" class=\"dataframe\">\n  <thead>\n    <tr style=\"text-align: right;\">\n      <th></th>\n      <th>Unnamed: 0</th>\n      <th>name</th>\n      <th>latitude</th>\n      <th>longitude</th>\n    </tr>\n  </thead>\n  <tbody>\n    <tr>\n      <td>0</td>\n      <td>0</td>\n      <td>4 Bunglows</td>\n      <td>19.1247</td>\n      <td>72.8264</td>\n    </tr>\n    <tr>\n      <td>1</td>\n      <td>1</td>\n      <td>Aarey Milk Colony</td>\n      <td>19.1510</td>\n      <td>72.8831</td>\n    </tr>\n    <tr>\n      <td>2</td>\n      <td>2</td>\n      <td>Abhyudaya Nagar</td>\n      <td>18.9914</td>\n      <td>72.8442</td>\n    </tr>\n    <tr>\n      <td>3</td>\n      <td>3</td>\n      <td>Adaigaon</td>\n      <td>19.0086</td>\n      <td>73.1282</td>\n    </tr>\n    <tr>\n      <td>4</td>\n      <td>4</td>\n      <td>Adharwadi</td>\n      <td>19.2570</td>\n      <td>73.1240</td>\n    </tr>\n    <tr>\n      <td>...</td>\n      <td>...</td>\n      <td>...</td>\n      <td>...</td>\n      <td>...</td>\n    </tr>\n    <tr>\n      <td>897</td>\n      <td>909</td>\n      <td>Worli Seaface</td>\n      <td>19.0091</td>\n      <td>72.8157</td>\n    </tr>\n    <tr>\n      <td>898</td>\n      <td>910</td>\n      <td>Yadav Nagar</td>\n      <td>28.7500</td>\n      <td>77.1406</td>\n    </tr>\n    <tr>\n      <td>899</td>\n      <td>911</td>\n      <td>Yamuna Nagar</td>\n      <td>30.1290</td>\n      <td>77.2674</td>\n    </tr>\n    <tr>\n      <td>900</td>\n      <td>912</td>\n      <td>Yashodham</td>\n      <td>19.1694</td>\n      <td>72.8679</td>\n    </tr>\n    <tr>\n      <td>901</td>\n      <td>913</td>\n      <td>Yashodhan Nagar</td>\n      <td>19.2110</td>\n      <td>72.9542</td>\n    </tr>\n  </tbody>\n</table>\n<p>902 rows × 4 columns</p>\n</div>"
     },
     "metadata": {},
     "execution_count": 5
    }
   ],
   "source": [
    "data"
   ]
  },
  {
   "cell_type": "code",
   "execution_count": 5,
   "metadata": {},
   "outputs": [
    {
     "output_type": "execute_result",
     "data": {
      "text/plain": "                name  latitude  longitude\n0         4 Bunglows   19.1247    72.8264\n1  Aarey Milk Colony   19.1510    72.8831\n2    Abhyudaya Nagar   18.9914    72.8442\n3           Adaigaon   19.0086    73.1282\n4          Adharwadi   19.2570    73.1240",
      "text/html": "<div>\n<style scoped>\n    .dataframe tbody tr th:only-of-type {\n        vertical-align: middle;\n    }\n\n    .dataframe tbody tr th {\n        vertical-align: top;\n    }\n\n    .dataframe thead th {\n        text-align: right;\n    }\n</style>\n<table border=\"1\" class=\"dataframe\">\n  <thead>\n    <tr style=\"text-align: right;\">\n      <th></th>\n      <th>name</th>\n      <th>latitude</th>\n      <th>longitude</th>\n    </tr>\n  </thead>\n  <tbody>\n    <tr>\n      <td>0</td>\n      <td>4 Bunglows</td>\n      <td>19.1247</td>\n      <td>72.8264</td>\n    </tr>\n    <tr>\n      <td>1</td>\n      <td>Aarey Milk Colony</td>\n      <td>19.1510</td>\n      <td>72.8831</td>\n    </tr>\n    <tr>\n      <td>2</td>\n      <td>Abhyudaya Nagar</td>\n      <td>18.9914</td>\n      <td>72.8442</td>\n    </tr>\n    <tr>\n      <td>3</td>\n      <td>Adaigaon</td>\n      <td>19.0086</td>\n      <td>73.1282</td>\n    </tr>\n    <tr>\n      <td>4</td>\n      <td>Adharwadi</td>\n      <td>19.2570</td>\n      <td>73.1240</td>\n    </tr>\n  </tbody>\n</table>\n</div>"
     },
     "metadata": {},
     "execution_count": 5
    }
   ],
   "source": [
    "data.drop(\"Unnamed: 0\", axis=1, inplace=True)\n",
    "data.head()"
   ]
  },
  {
   "cell_type": "code",
   "execution_count": 6,
   "metadata": {},
   "outputs": [
    {
     "output_type": "execute_result",
     "data": {
      "text/plain": "(902, 4)"
     },
     "metadata": {},
     "execution_count": 6
    }
   ],
   "source": [
    "data.shape"
   ]
  },
  {
   "cell_type": "code",
   "execution_count": 7,
   "metadata": {},
   "outputs": [
    {
     "output_type": "execute_result",
     "data": {
      "text/plain": "       Unnamed: 0    latitude   longitude\ncount  902.000000  902.000000  902.000000\nmean   457.078714   19.506517   73.347065\nstd    263.226892    2.012767    1.619367\nmin      0.000000   12.273200   69.355500\n25%    230.250000   19.036025   72.858550\n50%    455.500000   19.132250   72.987200\n75%    684.750000   19.216250   73.090225\nmax    913.000000   32.455600   87.299700",
      "text/html": "<div>\n<style scoped>\n    .dataframe tbody tr th:only-of-type {\n        vertical-align: middle;\n    }\n\n    .dataframe tbody tr th {\n        vertical-align: top;\n    }\n\n    .dataframe thead th {\n        text-align: right;\n    }\n</style>\n<table border=\"1\" class=\"dataframe\">\n  <thead>\n    <tr style=\"text-align: right;\">\n      <th></th>\n      <th>Unnamed: 0</th>\n      <th>latitude</th>\n      <th>longitude</th>\n    </tr>\n  </thead>\n  <tbody>\n    <tr>\n      <td>count</td>\n      <td>902.000000</td>\n      <td>902.000000</td>\n      <td>902.000000</td>\n    </tr>\n    <tr>\n      <td>mean</td>\n      <td>457.078714</td>\n      <td>19.506517</td>\n      <td>73.347065</td>\n    </tr>\n    <tr>\n      <td>std</td>\n      <td>263.226892</td>\n      <td>2.012767</td>\n      <td>1.619367</td>\n    </tr>\n    <tr>\n      <td>min</td>\n      <td>0.000000</td>\n      <td>12.273200</td>\n      <td>69.355500</td>\n    </tr>\n    <tr>\n      <td>25%</td>\n      <td>230.250000</td>\n      <td>19.036025</td>\n      <td>72.858550</td>\n    </tr>\n    <tr>\n      <td>50%</td>\n      <td>455.500000</td>\n      <td>19.132250</td>\n      <td>72.987200</td>\n    </tr>\n    <tr>\n      <td>75%</td>\n      <td>684.750000</td>\n      <td>19.216250</td>\n      <td>73.090225</td>\n    </tr>\n    <tr>\n      <td>max</td>\n      <td>913.000000</td>\n      <td>32.455600</td>\n      <td>87.299700</td>\n    </tr>\n  </tbody>\n</table>\n</div>"
     },
     "metadata": {},
     "execution_count": 7
    }
   ],
   "source": [
    "data.describe()"
   ]
  },
  {
   "cell_type": "code",
   "execution_count": 8,
   "metadata": {},
   "outputs": [],
   "source": [
    "def freq_table(dataset,col):\n",
    "    frequency = { }\n",
    "    duplicates = { }\n",
    "    for name in dataset[col]:\n",
    "        if name in frequency:\n",
    "            frequency[name] += 1\n",
    "        else:\n",
    "            frequency[name] = 1\n",
    "    for key in frequency:\n",
    "        if frequency[key] > 1:\n",
    "            duplicates[key] = frequency[key]\n",
    "\n",
    "    return frequency,duplicates"
   ]
  },
  {
   "cell_type": "code",
   "execution_count": 9,
   "metadata": {},
   "outputs": [],
   "source": [
    "frequency,duplicate = freq_table(data,\"name\")"
   ]
  },
  {
   "cell_type": "code",
   "execution_count": 10,
   "metadata": {},
   "outputs": [
    {
     "output_type": "execute_result",
     "data": {
      "text/plain": "{}"
     },
     "metadata": {},
     "execution_count": 10
    }
   ],
   "source": [
    "duplicate"
   ]
  },
  {
   "cell_type": "code",
   "execution_count": 11,
   "metadata": {},
   "outputs": [
    {
     "output_type": "execute_result",
     "data": {
      "text/plain": "     Unnamed: 0               name  latitude  longitude\n681         690  Maharashtra Nagar     19.05    72.9394",
      "text/html": "<div>\n<style scoped>\n    .dataframe tbody tr th:only-of-type {\n        vertical-align: middle;\n    }\n\n    .dataframe tbody tr th {\n        vertical-align: top;\n    }\n\n    .dataframe thead th {\n        text-align: right;\n    }\n</style>\n<table border=\"1\" class=\"dataframe\">\n  <thead>\n    <tr style=\"text-align: right;\">\n      <th></th>\n      <th>Unnamed: 0</th>\n      <th>name</th>\n      <th>latitude</th>\n      <th>longitude</th>\n    </tr>\n  </thead>\n  <tbody>\n    <tr>\n      <td>681</td>\n      <td>690</td>\n      <td>Maharashtra Nagar</td>\n      <td>19.05</td>\n      <td>72.9394</td>\n    </tr>\n  </tbody>\n</table>\n</div>"
     },
     "metadata": {},
     "execution_count": 11
    }
   ],
   "source": [
    "data.loc[data[\"name\"] == 'Maharashtra Nagar',:]"
   ]
  },
  {
   "cell_type": "code",
   "execution_count": 12,
   "metadata": {},
   "outputs": [],
   "source": [
    "def remove_duplicates(val):\n",
    "    rows = data.loc[data[\"name\"] == val,:]#.reset_index()\n",
    "    ind = rows.index[1:]\n",
    "    data.drop(ind,inplace=True)\n",
    "\n",
    "for values in duplicate:\n",
    "    remove_duplicates(values)"
   ]
  },
  {
   "cell_type": "code",
   "execution_count": 13,
   "metadata": {},
   "outputs": [
    {
     "output_type": "execute_result",
     "data": {
      "text/plain": "     Unnamed: 0               name  latitude  longitude\n681         690  Maharashtra Nagar     19.05    72.9394",
      "text/html": "<div>\n<style scoped>\n    .dataframe tbody tr th:only-of-type {\n        vertical-align: middle;\n    }\n\n    .dataframe tbody tr th {\n        vertical-align: top;\n    }\n\n    .dataframe thead th {\n        text-align: right;\n    }\n</style>\n<table border=\"1\" class=\"dataframe\">\n  <thead>\n    <tr style=\"text-align: right;\">\n      <th></th>\n      <th>Unnamed: 0</th>\n      <th>name</th>\n      <th>latitude</th>\n      <th>longitude</th>\n    </tr>\n  </thead>\n  <tbody>\n    <tr>\n      <td>681</td>\n      <td>690</td>\n      <td>Maharashtra Nagar</td>\n      <td>19.05</td>\n      <td>72.9394</td>\n    </tr>\n  </tbody>\n</table>\n</div>"
     },
     "metadata": {},
     "execution_count": 13
    }
   ],
   "source": [
    "data.loc[data[\"name\"] == 'Maharashtra Nagar',:]"
   ]
  },
  {
   "cell_type": "code",
   "execution_count": 14,
   "metadata": {},
   "outputs": [
    {
     "output_type": "execute_result",
     "data": {
      "text/plain": "array(['4 Bunglows', 'Aarey Milk Colony', 'Abhyudaya Nagar', 'Adaigaon',\n       'Adharwadi', 'Agashi', 'Airoli', 'Akurli Nagar', 'Alika Nagar'],\n      dtype=object)"
     },
     "metadata": {},
     "execution_count": 14
    }
   ],
   "source": [
    "data.name.unique()[0:9]"
   ]
  },
  {
   "cell_type": "code",
   "execution_count": 15,
   "metadata": {},
   "outputs": [
    {
     "output_type": "execute_result",
     "data": {
      "text/plain": "19.1616    12\n19.0452     3\n19.1106     3\n19.1762     3\n19.2012     3\n           ..\n19.0198     1\n19.2629     1\n19.1141     1\n19.2847     1\n19.2184     1\nName: latitude, Length: 797, dtype: int64"
     },
     "metadata": {},
     "execution_count": 15
    }
   ],
   "source": [
    "data.latitude.value_counts().sort_values( ascending = False)"
   ]
  },
  {
   "cell_type": "code",
   "execution_count": 95,
   "metadata": {},
   "outputs": [
    {
     "output_type": "execute_result",
     "data": {
      "text/plain": "array([19.1247, 19.151, 18.9914, 19.0086, 19.257, 19.4604,\n       19.159000000000002, 19.1997, 19.198, '19.2411', '19.0730', 19.1825,\n       19.2075, 19.2651, 15.9647, 19.1021, '19.2557', 19.1179, 19.1364,\n       19.2298, 19.4392, 19.2265, 19.214000000000002, 19.5042, 19.1292,\n       19.1668, 19.2629, 19.1762, 19.2153, 19.0609, 19.0596, 19.0688,\n       19.0237, 19.1777, '19.0395', 19.0976, 19.2001, 19.0292, 19.1503,\n       19.1624, 19.3043, 19.3008, 18.9405, 19.2813, 19.7969, 19.4423,\n       19.2381, 19.2458, 18.9746, 19.192, 18.975, 18.9822, 18.9761,\n       19.1568, 19.1098, 12.2732, 19.2658, 19.2874, 19.1075, 19.1985,\n       19.21, 19.0522, 19.0673, 19.2468, 19.4845, '19.0760', 19.2215,\n       19.1791, 18.9322, 19.1682, 18.9067, 19.0446, 18.9127, 19.0178,\n       19.0099, 19.0236, 19.2085, 19.4946, 19.2575, 19.2547, 19.2222,\n       19.2366, 19.0447, 19.1926, 18.9921, 19.2317, 19.2242, 19.2288,\n       19.1434, 19.1869, 19.1229, 19.2293, 19.2161, 19.2189, 19.4709,\n       18.8812, 19.245, 19.1843, 19.1919, 19.076, 19.2635, 18.9589,\n       19.2559, '19.0585', '19.1327', 19.0751, 19.2513, 19.1731, 19.2259,\n       '18.9121', 19.1254, 19.0786, 19.0908, 19.21833, 19.3031, 18.9572,\n       19.2118, 19.4499, 19.1703, 19.2327, 19.1663, 19.1636, 19.0535,\n       '19.1954', 19.2814, 19.2028, 19.1704, 19.0197, 19.2591, 19.1154,\n       19.227, 19.2477, 19.2018, 19.1111, 18.9821, 19.0977, 19.2023,\n       13.1109, 19.1646, 19.118, 19.3165, 18.9925, 19.1439, 19.1421,\n       19.3564, 19.1106, 19.0507, 19.140512, '19.1973', 19.0897, 19.0328,\n       19.2461, 19.0763, 19.2333, 19.2022, 19.2299, 19.2446, 19.0166,\n       19.3014, 19.2558, 19.2005, 19.1998, 19.1294, 19.1327, 19.1102,\n       19.1203, 19.2201, 18.9733, 18.4915, 18.9102, 19.2679, 19.2362,\n       19.2799, 19.2247, 19.169, 19.2625, 19.2589, 19.2592, 18.8306,\n       19.0094, 19.07, 19.205, 19.0473, 19.1487, 19.4171, 19.3167,\n       19.2014, 18.7939, 19.2315, 19.240892, 19.0357, 19.8849, 19.1616,\n       19.1817, 19.1614, 19.0621, 19.0708, 19.0729, 19.4152, 18.9908,\n       '19.1608', 19.174673, 19.186, 19.061486, 19.1982,\n       19.192999999999998, 18.9977, 18.9919, 19.0003, 19.164, 19.1301,\n       18.9865, 19.215, 19.032, 19.2137, 18.9548, 19.1854, 19.189,\n       19.1858, 19.2, 19.1763, 19.0513, 19.2308, 18.9431, 19.1173,\n       19.0269, 19.0282, 18.9644, 19.2929, 19.2258, 19.1834, 19.2952,\n       19.2856, 19.2012, 19.4279, '19.1674', 19.1643, 19.1726, 19.1582,\n       19.1689, 18.969, 19.1761, 19.1553, 19.3561, 19.3511, 19.4183,\n       19.4257, 19.4199, 19.1989, 19.1996, 19.1299, 19.1903, 19.3065,\n       '19.0640', 19.2354, 19.023, 19.0338, 19.0016, 19.0137, 19.4254,\n       19.1557, 19.0654, 18.9905, 19.1955, 19.2678, 19.0665, 19.0674,\n       18.538, 'Not Available', 19.1219, 19.1709, '19.0845', 18.9894,\n       19.0008, 19.2086, 19.2421, 18.968249, 19.2185, 19.0695, 19.0809,\n       19.077, 19.2163, 19.2847, 19.1373, 19.2725, 19.1176, 19.0163,\n       19.19, 19.1463, '19.1230', 19.1191, 12.9089, 19.2427, 19.2977,\n       19.1628, 19.0589, 18.8931, 19.2445, 19.0422, 19.0383, 19.1532,\n       16.9178, 19.1309, 18.9955, 19.2179, 18.5404, 19.0962, 19.2056,\n       19.2071, 19.2114, 19.1784, 19.0601, 19.0744, 19.0841, '19.2160',\n       19.0171, 19.2116, 19.0637, 19.0189, 19.034000000000002, 19.0165,\n       19.0203, 19.0387, 19.0439, 19.0613, 19.0172, 19.0452, 19.0833,\n       19.0092, 19.0401, 19.0155, 18.9629, 19.0723, 19.0138, 19.0471,\n       19.012999999999998, 19.0501, 19.0322, 18.9722, 19.028, 19.2136,\n       19.0302, 18.9831, 19.1627, 19.015, 19.0169, 19.0497,\n       18.977999999999998, 19.1302, 19.0145, 19.0499, 19.0295,\n       18.980999999999998, 19.0272, 18.9768, 19.0233, 19.09,\n       19.090999999999998, 19.0876, 19.0206, 19.0726, 19.071, 19.0253,\n       19.072, 19.0164, 19.0186, 18.9804, 19.0226, 19.0346, 19.1483,\n       19.1454, 19.0388, 18.9707, 19.1428, 19.0756, 19.0184, 19.0971,\n       19.0451, 19.0615, 19.1239, 19.0616, 19.0419, 19.0593, 19.074,\n       18.9596, 19.0154, 19.0558, 18.9674, 19.1587, 19.0701, 19.108,\n       19.0341, 19.0377, 19.0687, 19.1656, 19.0502, 19.0557, 19.0119,\n       19.0102, 19.1978, 19.0193, 19.0284, 19.1433, 18.9846, 19.0691,\n       19.0696, 19.0721, 19.0669, 19.0706, 19.0782, 19.0173, 19.0126,\n       19.0213, 19.0354, 19.1042, 19.0139, 19.0068, 19.1465, 19.1215,\n       19.0405, 19.0241, 19.0223, 19.2184, 19.1218, 19.0301, 19.0612,\n       18.9673, 19.1431, 19.0198, 19.0584, 18.9711, 19.1291, 18.9924,\n       19.2498, 19.4521, 12.9578, 19.2806, '19.1394', 19.2826, 19.1256,\n       19.1435, 19.2219, 18.6804, 19.0307, 19.1898, '19.1596', 19.0511,\n       19.0351, 19.4223, '19.1758', 19.2045, 19.1379, 18.9799, 19.063,\n       19.1806, 18.9676, 19.1842829, 19.2095, 19.2108, 19.1835, 19.2467,\n       '19.0683', 19.2961, 19.0416, 18.972, 19.1712, 19.227999999999998,\n       19.1753, 18.9943, 19.2044, '19.1441', 19.0789, 19.1821, 19.0929,\n       19.2083, 19.3919, 19.4056, 19.3826, 19.3665, 19.4039, '19.2245',\n       19.0745, 19.406, 19.136326, 19.1351, 18.9857, 19.2561, 13.0655,\n       19.1024, 19.0964, 19.1071, '19.1144', 19.4564, 19.4594, 19.4559,\n       19.2207, 19.1849, 19.0149, 19.0089, 19.266, 18.9508, 19.2552,\n       18.9986, 19.4617, 19.138458, 19.2352, 19.2485, '19.0147', 18.9777,\n       19.163, '19.1103', 19.008, 19.07609, 19.1681, 19.2686, 19.1136,\n       19.0283, 18.9204, 19.1645, '19.1782', 19.1988, 19.2115, 19.0035,\n       19.1225, 17.4824, 19.1655, 19.1499, 19.1512, 19.3654, 19.2861,\n       19.4699, 19.0607, 19.003, 19.0888, 19.0681, 19.0517, 18.7788,\n       18.877235, 19.1738, 19.1372, 19.1687, 19.2182, 19.1469, 19.1958,\n       19.138, 19.4061, '19.1486', 18.9932, 16.7097, 18.9851, 19.0855,\n       19.0771, 19.1206, 19.4094, 19.2295, '19.2354', 18.9623, '19.1196',\n       19.1213, 19.1139, 18.9778, 19.0774, 19.1719, 19.1748, 19.0216,\n       '19.1610', 19.2097, 19.3009, 19.302, 19.3041, '19.1334', 19.2092,\n       19.191, 19.1441, 12.9642, 19.1141, 19.0618, 18.9649, '19.0188',\n       '19.1063', 18.920902, 19.2705, 19.2225, 19.0234, 19.1962, 19.1952,\n       19.0587, 19.1214, 19.1888, 19.1462, 19.204139, 19.1117, 19.0182,\n       19.2385, 19.247, 19.229, 19.2357, 19.1905, 19.1796, 19.141213,\n       19.1121, 19.2209, 19.1436, 19.2079, 19.2264, 19.0895, 19.2641,\n       19.0281, 19.05, '19.1721', 19.1861, '18.9522', 19.3748, 15.9414,\n       18.954269, 19.182755, 19.1676, 19.1515, 19.2742, 19.1318,\n       19.160999999999998, 19.2823, 19.1575, 19.0469, 19.0541, 19.1538,\n       19.1612, 19.0856, 19.2197, 18.957534, 18.9256, 19.4843, 19.1936,\n       19.3821, 19.3058, 19.1258, 18.898, 19.2869, 19.1742, 18.6264,\n       19.2588, 18.9535, 18.9692, '19.1379', 19.1798, 19.0649, 19.0586,\n       17.5186, 19.0428, 19.0738, 19.2038, 19.2271, 19.1797, 18.6639,\n       '19.2197', 19.226662, 19.2694, '19.1267', 19.0516, 19.0986,\n       19.2106, 19.212, 19.1119, 19.1222, 19.1084, 19.1641, '19.1641',\n       19.1175, 19.1127, 19.0899, 19.0106, 19.016, 19.0349, 19.1251,\n       19.0794, 19.037, 19.1344, 19.2178, 19.0285, 19.0666, 19.0212,\n       19.0153, 19.2174, 19.2164, 19.0052, 19.1644, 19.0081, 18.9984,\n       19.0329, 19.0376, 19.0028, 19.0825, 19.0796, 19.1195, 19.0031,\n       18.9994, 18.9981, 19.0961, 19.0372, 19.1506, 19.0394, 18.9871,\n       18.9916, 19.15, 18.9882, 19.058, 19.039, 19.0067, 19.0577,\n       19.102999999999998, 19.0335, 19.0151, 18.997, 19.1618, 19.0731,\n       19.1014, 19.0737, 19.0204, 19.1113, 19.1151, 19.1064, 19.0019,\n       19.1395, 19.0668, 19.016804, 19.0192, 19.0032, 19.064, 19.0134,\n       19.1489, 19.005, 19.0096, 19.1033, 19.0421, 19.0091, 19.1228,\n       19.0103, 19.1008, 19.0217, 19.1015, 19.1159, 19.0074, 19.0027,\n       19.2746, 19.0152, 19.1716, 19.2057, 19.2344, 18.9342, 18.9902,\n       19.217, 18.5314, 19.0316, 19.0395, 19.1815, 19.0007, 19.1375,\n       19.1343, '19.3708', 19.0553, 19.0866, 19.1088, 19.1595, 19.2662,\n       13.6288, 19.2237, 19.1172, 19.3603, 19.0484, 19.1812, 18.976,\n       19.1944, 18.9838, '19.0660', 19.1802, 19.1822, 19.0792, 19.0798,\n       19.1142, 19.1686, '19.0511', 19.1868, 19.063966, '19.1089',\n       '19.1488', 19.1694, 19.211], dtype=object)"
     },
     "metadata": {},
     "execution_count": 95
    }
   ],
   "source": [
    "data.latitude.unique()"
   ]
  },
  {
   "cell_type": "code",
   "execution_count": 17,
   "metadata": {},
   "outputs": [],
   "source": [
    "# data.latitude.apply(lambda x: (x if len(x) > 7 else None )is not None)"
   ]
  },
  {
   "cell_type": "code",
   "execution_count": 96,
   "metadata": {},
   "outputs": [
    {
     "output_type": "error",
     "ename": "TypeError",
     "evalue": "object of type 'float' has no len()",
     "traceback": [
      "\u001b[1;31m---------------------------------------------------------------------------\u001b[0m",
      "\u001b[1;31mTypeError\u001b[0m                                 Traceback (most recent call last)",
      "\u001b[1;32m<ipython-input-96-7434206baa97>\u001b[0m in \u001b[0;36m<module>\u001b[1;34m\u001b[0m\n\u001b[0;32m      1\u001b[0m \u001b[1;32mfor\u001b[0m \u001b[0ml\u001b[0m \u001b[1;32min\u001b[0m \u001b[0mdata\u001b[0m\u001b[1;33m.\u001b[0m\u001b[0mlatitude\u001b[0m\u001b[1;33m:\u001b[0m\u001b[1;33m\u001b[0m\u001b[1;33m\u001b[0m\u001b[0m\n\u001b[1;32m----> 2\u001b[1;33m     \u001b[1;32mif\u001b[0m \u001b[1;33m(\u001b[0m\u001b[0mlen\u001b[0m\u001b[1;33m(\u001b[0m\u001b[0ml\u001b[0m\u001b[1;33m)\u001b[0m\u001b[1;33m>\u001b[0m\u001b[1;36m7\u001b[0m\u001b[1;33m)\u001b[0m \u001b[1;33m&\u001b[0m \u001b[1;33m(\u001b[0m\u001b[0ml\u001b[0m \u001b[1;33m!=\u001b[0m \u001b[1;34m\"Not Available\"\u001b[0m\u001b[1;33m)\u001b[0m\u001b[1;33m:\u001b[0m\u001b[1;33m\u001b[0m\u001b[1;33m\u001b[0m\u001b[0m\n\u001b[0m\u001b[0;32m      3\u001b[0m         \u001b[0mprint\u001b[0m\u001b[1;33m(\u001b[0m\u001b[0mdata\u001b[0m\u001b[1;33m[\u001b[0m\u001b[0mdata\u001b[0m\u001b[1;33m[\u001b[0m\u001b[1;34m\"latitude\"\u001b[0m\u001b[1;33m]\u001b[0m \u001b[1;33m==\u001b[0m \u001b[0ml\u001b[0m\u001b[1;33m]\u001b[0m\u001b[1;33m)\u001b[0m\u001b[1;33m\u001b[0m\u001b[1;33m\u001b[0m\u001b[0m\n",
      "\u001b[1;31mTypeError\u001b[0m: object of type 'float' has no len()"
     ]
    }
   ],
   "source": [
    "for l in data.latitude:\n",
    "    if (len(l)>7) & (l != \"Not Available\"):\n",
    "        print(data[data[\"latitude\"] == l])"
   ]
  },
  {
   "cell_type": "code",
   "execution_count": 19,
   "metadata": {},
   "outputs": [
    {
     "output_type": "execute_result",
     "data": {
      "text/plain": "Empty DataFrame\nColumns: [Unnamed: 0, name, latitude, longitude]\nIndex: []",
      "text/html": "<div>\n<style scoped>\n    .dataframe tbody tr th:only-of-type {\n        vertical-align: middle;\n    }\n\n    .dataframe tbody tr th {\n        vertical-align: top;\n    }\n\n    .dataframe thead th {\n        text-align: right;\n    }\n</style>\n<table border=\"1\" class=\"dataframe\">\n  <thead>\n    <tr style=\"text-align: right;\">\n      <th></th>\n      <th>Unnamed: 0</th>\n      <th>name</th>\n      <th>latitude</th>\n      <th>longitude</th>\n    </tr>\n  </thead>\n  <tbody>\n  </tbody>\n</table>\n</div>"
     },
     "metadata": {},
     "execution_count": 19
    }
   ],
   "source": [
    "data[data[\"latitude\"]=='Raigad district']"
   ]
  },
  {
   "cell_type": "code",
   "execution_count": 20,
   "metadata": {},
   "outputs": [],
   "source": [
    "#  G B Road - 19.2635,72.9741\n",
    "#  Sector 19 Kharghar - 19.0501,73.0782\n",
    "#  Sector-27 Kharghar  - 19.1978302,72.9600906\n",
    "#        Sector-6 Airoli              - 19.1465,72.9988\n",
    "# Eden Wood - 19.1380,72.8278"
   ]
  },
  {
   "cell_type": "code",
   "execution_count": 21,
   "metadata": {},
   "outputs": [],
   "source": [
    "cord_corr = {\"G B Road\":[\"19.2635\",\"72.9741\"],\"Sector 19 Kharghar\":[\"19.0501\",\"73.0782\"],\"Sector-27 Kharghar\":[\"19.1978\",\"72.9600\"],\"Sector-6 Airoli\":[\"19.1465\",\"72.9988\"],\"Eden Wood\":[\"19.1380\",\"72.8278\"]}"
   ]
  },
  {
   "cell_type": "code",
   "execution_count": 22,
   "metadata": {},
   "outputs": [],
   "source": [
    "for p in cord_corr:\n",
    "    data.loc[data[\"name\"] == p,\"latitude\"] = cord_corr[p][0]\n",
    "    data.loc[data[\"name\"] == p,\"longitude\"] = cord_corr[p][1]"
   ]
  },
  {
   "cell_type": "code",
   "execution_count": 23,
   "metadata": {},
   "outputs": [
    {
     "output_type": "error",
     "ename": "TypeError",
     "evalue": "object of type 'float' has no len()",
     "traceback": [
      "\u001b[1;31m---------------------------------------------------------------------------\u001b[0m",
      "\u001b[1;31mTypeError\u001b[0m                                 Traceback (most recent call last)",
      "\u001b[1;32m<ipython-input-23-7434206baa97>\u001b[0m in \u001b[0;36m<module>\u001b[1;34m\u001b[0m\n\u001b[0;32m      1\u001b[0m \u001b[1;32mfor\u001b[0m \u001b[0ml\u001b[0m \u001b[1;32min\u001b[0m \u001b[0mdata\u001b[0m\u001b[1;33m.\u001b[0m\u001b[0mlatitude\u001b[0m\u001b[1;33m:\u001b[0m\u001b[1;33m\u001b[0m\u001b[1;33m\u001b[0m\u001b[0m\n\u001b[1;32m----> 2\u001b[1;33m     \u001b[1;32mif\u001b[0m \u001b[1;33m(\u001b[0m\u001b[0mlen\u001b[0m\u001b[1;33m(\u001b[0m\u001b[0ml\u001b[0m\u001b[1;33m)\u001b[0m\u001b[1;33m>\u001b[0m\u001b[1;36m7\u001b[0m\u001b[1;33m)\u001b[0m \u001b[1;33m&\u001b[0m \u001b[1;33m(\u001b[0m\u001b[0ml\u001b[0m \u001b[1;33m!=\u001b[0m \u001b[1;34m\"Not Available\"\u001b[0m\u001b[1;33m)\u001b[0m\u001b[1;33m:\u001b[0m\u001b[1;33m\u001b[0m\u001b[1;33m\u001b[0m\u001b[0m\n\u001b[0m\u001b[0;32m      3\u001b[0m         \u001b[0mprint\u001b[0m\u001b[1;33m(\u001b[0m\u001b[0mdata\u001b[0m\u001b[1;33m[\u001b[0m\u001b[0mdata\u001b[0m\u001b[1;33m[\u001b[0m\u001b[1;34m\"latitude\"\u001b[0m\u001b[1;33m]\u001b[0m \u001b[1;33m==\u001b[0m \u001b[0ml\u001b[0m\u001b[1;33m]\u001b[0m\u001b[1;33m)\u001b[0m\u001b[1;33m\u001b[0m\u001b[1;33m\u001b[0m\u001b[0m\n",
      "\u001b[1;31mTypeError\u001b[0m: object of type 'float' has no len()"
     ]
    }
   ],
   "source": [
    "for l in data.latitude:\n",
    "    if (len(l)>7) & (l != \"Not Available\"):\n",
    "        print(data[data[\"latitude\"] == l])"
   ]
  },
  {
   "cell_type": "code",
   "execution_count": 24,
   "metadata": {},
   "outputs": [
    {
     "output_type": "error",
     "ename": "TypeError",
     "evalue": "object of type 'float' has no len()",
     "traceback": [
      "\u001b[1;31m---------------------------------------------------------------------------\u001b[0m",
      "\u001b[1;31mTypeError\u001b[0m                                 Traceback (most recent call last)",
      "\u001b[1;32m<ipython-input-24-da5cccb7e9d8>\u001b[0m in \u001b[0;36m<module>\u001b[1;34m\u001b[0m\n\u001b[0;32m      1\u001b[0m \u001b[1;32mfor\u001b[0m \u001b[0ml\u001b[0m \u001b[1;32min\u001b[0m \u001b[0mdata\u001b[0m\u001b[1;33m.\u001b[0m\u001b[0mlongitude\u001b[0m\u001b[1;33m:\u001b[0m\u001b[1;33m\u001b[0m\u001b[1;33m\u001b[0m\u001b[0m\n\u001b[1;32m----> 2\u001b[1;33m     \u001b[1;32mif\u001b[0m \u001b[1;33m(\u001b[0m\u001b[0mlen\u001b[0m\u001b[1;33m(\u001b[0m\u001b[0ml\u001b[0m\u001b[1;33m)\u001b[0m\u001b[1;33m>\u001b[0m\u001b[1;36m7\u001b[0m\u001b[1;33m)\u001b[0m \u001b[1;33m&\u001b[0m \u001b[1;33m(\u001b[0m\u001b[0ml\u001b[0m \u001b[1;33m!=\u001b[0m \u001b[1;34m\"Not Available\"\u001b[0m\u001b[1;33m)\u001b[0m\u001b[1;33m:\u001b[0m\u001b[1;33m\u001b[0m\u001b[1;33m\u001b[0m\u001b[0m\n\u001b[0m\u001b[0;32m      3\u001b[0m         \u001b[0mprint\u001b[0m\u001b[1;33m(\u001b[0m\u001b[0mdata\u001b[0m\u001b[1;33m[\u001b[0m\u001b[0mdata\u001b[0m\u001b[1;33m[\u001b[0m\u001b[1;34m\"longitude\"\u001b[0m\u001b[1;33m]\u001b[0m \u001b[1;33m==\u001b[0m \u001b[0ml\u001b[0m\u001b[1;33m]\u001b[0m\u001b[1;33m)\u001b[0m\u001b[1;33m\u001b[0m\u001b[1;33m\u001b[0m\u001b[0m\n",
      "\u001b[1;31mTypeError\u001b[0m: object of type 'float' has no len()"
     ]
    }
   ],
   "source": [
    "for l in data.longitude:\n",
    "    if (len(l)>7) & (l != \"Not Available\"):\n",
    "        print(data[data[\"longitude\"] == l])"
   ]
  },
  {
   "cell_type": "code",
   "execution_count": 25,
   "metadata": {},
   "outputs": [
    {
     "output_type": "execute_result",
     "data": {
      "text/plain": "array([72.8264, 72.8831, 72.8442, 73.1282, 73.124, 72.7747, 72.9986,\n       72.8589, 72.8707, 72.543, 82.6915, 73.1926, 73.1853, 73.1724,\n       74.0036, 72.9128, 83.2759, 72.8631, 72.8296, 73.0349, 73.2998,\n       72.8571, 72.8656, 73.3252, 72.836, 72.8464, 73.2368, 73.1388,\n       73.2401, 72.9918, 72.8465, 72.8295, 72.8703, 73.0404, 73.2268,\n       83.2278, 73.0003, 72.8405, 72.8796, 72.9491, 72.9376, 72.859,\n       72.8467, 73.4563, 73.0483, 72.7452, 72.7954, 72.8609, 72.8523,\n       72.98, 72.8065, 72.9889, 72.8383, 72.8312, 72.8538, 72.8583,\n       76.6707, 73.1305, 72.8737, 72.9018, 72.9748, 72.8183, 72.9005,\n       73.1423, 72.7866, 76.2653, 72.839, 72.8414, 72.8147, 72.8914,\n       72.8213, 72.8478, 72.8427, 72.8378, 72.8375, 72.8604, 72.865,\n       72.8539, 72.8584, 72.8611, 72.9103, 73.0863, 73.1342, 73.0827,\n       72.8671, 72.983, 72.9374, 72.8617, 73.0478, 72.8301, 72.9807,\n       73.09899999999999, 73.0807, 72.8087, 72.9645, 72.8368, 72.8371,\n       72.832, 72.8777, '72.9741', 72.8124, 73.1331, 72.6369, 77.2829,\n       72.9091, 73.1533, 72.9601, 72.9054, 72.9992, 72.9101, 72.9077,\n       72.978088, 72.8612, 72.8197, 73.0964, 72.7998, 72.8699, 72.7867,\n       72.8526, 72.8459, 72.9239, 85.1628, 72.8789, 73.2485, 72.8479,\n       72.9844, 72.9719, 72.8501, 72.8389, 73.2305, 72.908, 80.2274,\n       72.85300000000001, 72.9977, 72.8552, 72.8428, 73.2463, 72.8263,\n       72.8326, 73.0154, 72.842155, 77.2585, 72.8864, 73.1012, 73.0179,\n       72.8654, 73.0802, 73.0025, 73.1338, 73.1235, 73.0966, 72.8774,\n       72.8426, 72.933, 72.9254, 72.9379, 73.1099, 73.8217, 73.3283,\n       72.9712, 73.0149, 72.8855, 73.1445, 73.2296, 72.9741, 72.8767,\n       73.1279, 73.2846, 73.1114, 72.8338, 72.9995, 73.0699, 73.2776,\n       73.0597, 72.9724, 73.3346, 72.9962, 72.992497, 73.0741, 74.4728,\n       72.9964, 73.2385, 72.8834, 72.8781, 73.0752, 72.8131, 77.2784,\n       72.943108, 72.8413, 72.835943, 72.9616, 72.8376, 72.8305, 72.8238,\n       72.7895, 72.8732, 72.8401, 72.9903, 72.7985, 72.8585, 72.8355,\n       72.8191, 82.2624, 72.9905, 73.2397, 72.9368, 72.8272, 72.884,\n       72.8553, 72.8438, 72.8421, 72.8641, 72.8324, 72.8544, 72.8691,\n       73.2006, 77.1411, 72.8359, 72.9425, 72.9597, 72.935, 72.8205,\n       73.0229, 72.9438, 72.8722, 72.7956, 72.8374, 72.8117, 73.0922,\n       73.0848, 72.8644, 77.4444, 73.3175, 73.0196, 73.1202, 73.0232,\n       72.8157, 73.078, 72.8449, 73.1042, 72.9549, 73.0693, 72.8262,\n       73.222, 80.0364, 72.9652, 72.9099, 72.8508, 79.4908, 73.1175,\n       72.84899999999999, 73.0125, 72.807385, 73.0944, 72.9025, 73.0917,\n       72.9726, 72.8719, 72.8678, 72.906, 72.8291, 73.0081, 87.2997,\n       72.8951, 77.63, 73.1372, 72.8685, 73.2481, 73.0796, 73.1701,\n       72.868, 73.0981, 72.9345, 74.0689, 72.827, 73.101, 72.8471,\n       73.9286, 72.8877, 72.9635, 73.0918, 73.014, 72.8605,\n       72.83800000000001, 85.8499, 73.0175, 72.8258, 73.0047, 73.094,\n       73.0413, 73.0916, 73.0715, 73.0656, 73.0018, 73.0911, 73.0734,\n       73.0029, 73.0331, 73.0782, 73.0909, 73.0221, 73.0007, 73.09, 73.08,\n       73.0925, '73.0782', 73.025, 73.0295, 73.0265, 72.8196, 73.0649,\n       73.0269, 72.9892, 73.0962, 73.0737, 72.9994, 73.0973, 73.0686,\n       73.0207, 73.0309, 73.1014, 73.01899999999999, 73.0324, 73.0132,\n       73.0088, 73.0059, 73.0855, 73.0763, 73.0729, 73.0811, 73.0103,\n       73.0619, 73.0177, 73.0002, 73.0948, 73.0664, 72.9948, 72.9911,\n       73.012, 72.9859, 73.0889, 73.0117, 73.0708, 73.00399999999999,\n       73.0946, 73.0055, 73.0826, 73.0992, 73.021, 73.0874, 73.0236,\n       72.994, 73.0955, 73.0147, 73.0903, 72.991, 73.0156, 73.0988,\n       73.1003, 73.1007, '72.9600', 73.0153, 72.9976, 73.0793, 73.0812,\n       73.083, 73.0791, 73.0713, 73.0704, 73.0789, 73.0121, 73.0158,\n       73.0114, 73.097, 73.059, 73.0077, 73.0213, '72.9988', 73.0036,\n       72.8146, 72.9982, 73.0092, 72.997, 72.8235, 72.8198, 72.8547,\n       73.1593, 73.328, 77.5993, 72.8667, 77.1802, 72.8652, 72.8619,\n       73.0465, 72.843, 73.6883, 72.8408, 82.821, 72.8907, 72.8663,\n       76.8889, 72.9328, 73.1187, 73.1209, 72.9563, 72.8141,\n       72.95811690000001, 72.8747, 72.9781, 72.976, 77.0867, 73.2035,\n       72.8966, 73.1645, 73.0348, 72.8726, 73.0835, 72.8537, 72.9763,\n       75.7489, 72.85, 73.2391, 73.2972, 72.961, 72.8397, 72.8557,\n       72.8321, 72.8155, 72.8294, 77.1617, 72.9978, 73.2665, 72.82766,\n       73.1347, 80.2103, 72.92, 72.8564, 78.1593, 72.7925, 72.8189,\n       72.7763, 73.087, 72.8574, 72.9845, 72.8021, 73.1344, 72.8174,\n       72.8028, 72.809321, 72.8418, 73.1534, 77.1736, 72.8273, 76.7567,\n       72.877426, 72.9309, 73.1682, 72.8697, 72.8698, 73.2328, 72.8154,\n       77.7318, 72.8567, 73.104, 72.9158, 78.4077, 72.8323, 72.9354,\n       72.8122, 75.1655, 72.9666, 72.9505, 72.8257, 83.4043, 72.907,\n       72.8992, 72.8475, 73.1512, 72.8982, 72.8239, 72.8692, 72.8466,\n       73.4788, 72.928337, 72.8394, 73.1115, 72.96300000000001, 72.9582,\n       72.9704, '72.8278', 77.2691, 72.8229, 74.6854, 73.1128, 72.8402,\n       72.8674, 72.8587, 72.824, 80.3094, 72.8101, 77.4379, 72.8549,\n       72.8105, 72.8803, 72.9593, 72.9723, 73.1497, 75.2728, 72.8655,\n       77.0593, 72.96600000000001, 72.9788, 72.932, 77.6581, 77.2426,\n       72.8261, 73.19800000000001, 70.8982, 77.2772, 73.323097, 72.8884,\n       72.846, 72.8054, 73.1575, 72.8444, 73.2404, 72.9483, 72.9272,\n       72.975104, 72.8512, 72.8168, 72.9926, 73.1083, 72.8648, 72.8639,\n       72.9473, 72.830906, 72.8984, 72.8246, 72.9534, 72.9693, 73.0198,\n       72.9394, 75.7842, 69.3555, 77.4257, 72.811501, 72.84015699999999,\n       72.9675, 72.8287, 72.8504, 72.9069, 72.9486, 72.915, 72.799986,\n       72.8242, 73.2019, 72.8593, 72.8618, 72.9659, 73.7066, 73.1291,\n       73.1276, 77.1646, 73.1261, 72.8848, 72.8936, 78.3963, 72.9852,\n       72.8335, 73.8169, 85.1652, 72.98383299999999, 74.953, 72.8346,\n       72.885, 73.1018, 72.8534, 72.8908, 72.9026, 72.9453, 80.969,\n       73.0033, 73.0032, 73.0398, 73.02, 72.9938, 77.0433, 72.9955,\n       73.0189, 73.0586, 73.0136, 73.0173, 72.8349, 72.9966, 72.9974,\n       73.1088, 73.1206, 73.0977, 73.1248, 72.9981, 72.9923, 73.1136,\n       73.0162, 73.1257, 73.0072, 73.02600000000001, 72.9885, 73.1268,\n       73.125, 73.1062, 73.0338, 73.1213, 72.9969, 73.1029, 73.0368,\n       73.0062, 73.0044, 73.1198, 73.096458, 73.0129, 73.1184, 72.992,\n       73.0131, 73.0166, 73.118, 73.0106, 73.0101, 73.1165, 72.9997,\n       73.0058, 73.0933, 72.9985, 73.1236, 72.8645, 73.0364, 73.2389,\n       72.8357, 73.1379, 75.7931, 72.8128, 72.9571, 73.8446, 73.0996,\n       72.8597, 72.8419, 73.2581, 77.105, 72.8283, 79.0825, 72.8892,\n       72.8626, 72.9761, 72.9291, 72.7289, 73.0716, 79.4192, 73.1339,\n       72.8299, 72.9003, 73.07300000000001, 73.1394, 72.8314, 73.1036,\n       83.9074, 72.9424, 72.9448, 72.8973, 75.8937, 72.9358, 76.19,\n       77.6593, 72.9545, 72.835624, 72.8179, 77.1406, 77.2674, 72.8679,\n       72.9542], dtype=object)"
     },
     "metadata": {},
     "execution_count": 25
    }
   ],
   "source": [
    "data.longitude.unique()"
   ]
  },
  {
   "cell_type": "code",
   "execution_count": 26,
   "metadata": {},
   "outputs": [
    {
     "output_type": "execute_result",
     "data": {
      "text/plain": "Series([], Name: name, dtype: object)"
     },
     "metadata": {},
     "execution_count": 26
    }
   ],
   "source": [
    "data.loc[data[\"latitude\"] == \"Not Available\",\"name\"]"
   ]
  },
  {
   "cell_type": "code",
   "execution_count": 27,
   "metadata": {},
   "outputs": [],
   "source": [
    "# places_cord = {\"Badlapur (East)\":[\"19.166784\",\"73.236794\"],\"Film City Road\":[\"19.1611\",\"72.8874\"],\"Ghodbunder Road\":[\"19.218330\",\"72.978088\"],\"Hiranandani Meadows\":[\"19.2555\",\"72.98096\"],\"JVLR\":[\"19.140512\",\"72.842155\"],\"Kolshet Road\":[\"19.240892\",\"72.992497\"],\"LBS Marg\":[\"19.174673\",\"72.943108\"],\"Linking Road\":[\"19.061486\",\"72.835943\"],\"Navghar Gaon\":[\"18.9192249\",\"73.3277223\"],\"Peddar Road\":[\"18.968249\",\"72.807385\"],\"Pokhran-2\":[\"19.218330\",\"72.978088\"],\"Sector 20 Kamothe\":[\"19.0169\",\"73.0962\"],\"Sector 23 Ulwe\":[\"18.9768\",\"73.0324\"],\"Sector 35I Kharghar\":[\"19.0710\",\"73.0729\"],\"Sector 36 Seawoods\":[\"19.016426\",\"73.010269\"],\"Sector 42 Seawoods\":[\"19.0186\",\"73.0177\"],\"Sector-13 Kharghar\":[\"19.0451\",\"19.0451\"]}"
   ]
  },
  {
   "cell_type": "code",
   "execution_count": 28,
   "metadata": {},
   "outputs": [],
   "source": [
    "places_cord = {\"Ghodbunder Road\":[\"19.218330\",\"72.978088\"],\"JVLR\":[\"19.140512\",\"72.842155\"],\"Kolshet Road\":[\"19.240892\",\"72.992497\"],\"LBS Marg\":[\"19.174673\",\"72.943108\"],\"Linking Road\":[\"19.061486\",\"72.835943\"],\"Peddar Road\":[\"18.968249\",\"72.807385\"],\"Pokhran-2\":[\"19.218330\",\"72.978088\"],\"Teen Haath Naka\":[\"19.1842829\",\"72.9581169\"],\"Veera Desai Road\":[\"19.136326\",\"72.827660\"],\"Yari Road\":[\"19.138458\",\"72.809321\"],\"Altamount Road\":[\"19.076090\",\"72.877426\"],\"Dahiwali Tarf Waredi\":[\"18.877235\",\"72.928337\"],\"Hill Road\":[\"19.136326\",\"72.827660\"],\"Karade Khurd\":[\"18.920902\",\"73.323097\"],\"Kolbad Road\":[\"19.204139\",\"72.975104\"],\"Link Road\":[\"19.141213\",\"72.830906\"],\"Marine Drive Chowpatty\":[\"18.954269\",\"72.811501\"],\"Marve Road\":[\"19.182755\",\"72.840157\"],\"Napean Sea Road\":[\"18.957534\",\"72.799986\"],\"Ram Maruti Road\":[\"19.226662\",\"72.983833\"],\"Sector-31 Kamothe\":[\"19.016804\",\"73.096458\"],\"Waterfield Road\":[\"19.063966\",\"72.835624\"]}"
   ]
  },
  {
   "cell_type": "code",
   "execution_count": 29,
   "metadata": {},
   "outputs": [],
   "source": [
    "for p in places_cord:\n",
    "    data.loc[data[\"name\"] == p,\"latitude\"] = places_cord[p][0]\n",
    "    data.loc[data[\"name\"] == p,\"longitude\"] = places_cord[p][1]"
   ]
  },
  {
   "cell_type": "code",
   "execution_count": 30,
   "metadata": {},
   "outputs": [
    {
     "output_type": "execute_result",
     "data": {
      "text/plain": "Series([], Name: name, dtype: object)"
     },
     "metadata": {},
     "execution_count": 30
    }
   ],
   "source": [
    "data.loc[data[\"latitude\"] == \"Not Available\",\"name\"]"
   ]
  },
  {
   "cell_type": "code",
   "execution_count": 31,
   "metadata": {},
   "outputs": [
    {
     "output_type": "execute_result",
     "data": {
      "text/plain": "Empty DataFrame\nColumns: [Unnamed: 0, name, latitude, longitude]\nIndex: []",
      "text/html": "<div>\n<style scoped>\n    .dataframe tbody tr th:only-of-type {\n        vertical-align: middle;\n    }\n\n    .dataframe tbody tr th {\n        vertical-align: top;\n    }\n\n    .dataframe thead th {\n        text-align: right;\n    }\n</style>\n<table border=\"1\" class=\"dataframe\">\n  <thead>\n    <tr style=\"text-align: right;\">\n      <th></th>\n      <th>Unnamed: 0</th>\n      <th>name</th>\n      <th>latitude</th>\n      <th>longitude</th>\n    </tr>\n  </thead>\n  <tbody>\n  </tbody>\n</table>\n</div>"
     },
     "metadata": {},
     "execution_count": 31
    }
   ],
   "source": [
    "data[data[\"longitude\"] == \"Not Available\"]"
   ]
  },
  {
   "cell_type": "code",
   "execution_count": 102,
   "metadata": {},
   "outputs": [
    {
     "output_type": "stream",
     "name": "stdout",
     "text": "name       latitude      longitude\n286    Palm Beach  Not Available  Not Available\n580  Bhadra Nagar  Not Available  Not Available\n759    Sector 19B  Not Available  Not Available\n869    Thakurwadi  Not Available  Not Available\n890   Virat Nagar  Not Available  Not Available\n             name       latitude      longitude\n286    Palm Beach  Not Available  Not Available\n580  Bhadra Nagar  Not Available  Not Available\n759    Sector 19B  Not Available  Not Available\n869    Thakurwadi  Not Available  Not Available\n890   Virat Nagar  Not Available  Not Available\n             name       latitude      longitude\n286    Palm Beach  Not Available  Not Available\n580  Bhadra Nagar  Not Available  Not Available\n759    Sector 19B  Not Available  Not Available\n869    Thakurwadi  Not Available  Not Available\n890   Virat Nagar  Not Available  Not Available\n             name       latitude      longitude\n286    Palm Beach  Not Available  Not Available\n580  Bhadra Nagar  Not Available  Not Available\n759    Sector 19B  Not Available  Not Available\n869    Thakurwadi  Not Available  Not Available\n890   Virat Nagar  Not Available  Not Available\n             name       latitude      longitude\n286    Palm Beach  Not Available  Not Available\n580  Bhadra Nagar  Not Available  Not Available\n759    Sector 19B  Not Available  Not Available\n869    Thakurwadi  Not Available  Not Available\n890   Virat Nagar  Not Available  Not Available\n"
    }
   ],
   "source": [
    "#run3\n",
    "for l in data.latitude:\n",
    "    if l == \"Not Available\":\n",
    "        print(data[data[\"latitude\"] == l])"
   ]
  },
  {
   "cell_type": "code",
   "execution_count": 104,
   "metadata": {},
   "outputs": [],
   "source": [
    "run3_dict = {\"Palm Beach\":[19.087347,73.008589],\"Bhadra Nagar\":[19.009161,72.837608],\"Sector 19B\":[19.082593,73.011264],\"Thakurwadi\":[20.0032536,72.7286554],\"Virat Nagar\":[19.076090,72.877426]}"
   ]
  },
  {
   "cell_type": "code",
   "execution_count": 105,
   "metadata": {},
   "outputs": [],
   "source": [
    "for p in run3_dict:\n",
    "    data.loc[data[\"name\"] == p,\"latitude\"] = run3_dict[p][0]\n",
    "    data.loc[data[\"name\"] == p,\"longitude\"] = run3_dict[p][1]"
   ]
  },
  {
   "cell_type": "code",
   "execution_count": 109,
   "metadata": {},
   "outputs": [],
   "source": [
    "for l in data.latitude:\n",
    "    if l == \"Not Available\":\n",
    "        print(data[data[\"latitude\"] == l])\n",
    "    "
   ]
  },
  {
   "cell_type": "code",
   "execution_count": 110,
   "metadata": {},
   "outputs": [
    {
     "output_type": "execute_result",
     "data": {
      "text/plain": "(902, 3)"
     },
     "metadata": {},
     "execution_count": 110
    }
   ],
   "source": [
    "data.shape"
   ]
  },
  {
   "cell_type": "code",
   "execution_count": 39,
   "metadata": {},
   "outputs": [
    {
     "output_type": "execute_result",
     "data": {
      "text/plain": "     Unnamed: 0                    name    latitude   longitude\n107         110                G B Road     19.2635     72.9741\n120         123         Ghodbunder Road   19.218330   72.978088\n157         161                    JVLR   19.140512   72.842155\n203         208            Kolshet Road   19.240892   72.992497\n215         220                LBS Marg   19.174673   72.943108\n217         222            Linking Road   19.061486   72.835943\n296         301             Peddar Road   18.968249   72.807385\n302         307               Pokhran-2   19.218330   72.978088\n359         364      Sector 19 Kharghar     19.0501     73.0782\n434         439      Sector-27 Kharghar     19.1978     72.9600\n457         462         Sector-6 Airoli     19.1465     72.9988\n499         505         Teen Haath Naka  19.1842829  72.9581169\n528         536        Veera Desai Road   19.136326   72.827660\n551         559               Yari Road   19.138458   72.809321\n559         567          Altamount Road   19.076090   72.877426\n597         605    Dahiwali Tarf Waredi   18.877235   72.928337\n607         615               Eden Wood     19.1380     72.8278\n631         640               Hill Road   19.136326   72.827660\n650         659            Karade Khurd   18.920902   73.323097\n662         671             Kolbad Road   19.204139   72.975104\n672         681               Link Road   19.141213   72.830906\n687         697  Marine Drive Chowpatty   18.954269   72.811501\n689         699              Marve Road   19.182755   72.840157\n704         714         Napean Sea Road   18.957534   72.799986\n737         747         Ram Maruti Road   19.226662   72.983833\n817         827       Sector-31 Kamothe   19.016804   73.096458\n894         906         Waterfield Road   19.063966   72.835624",
      "text/html": "<div>\n<style scoped>\n    .dataframe tbody tr th:only-of-type {\n        vertical-align: middle;\n    }\n\n    .dataframe tbody tr th {\n        vertical-align: top;\n    }\n\n    .dataframe thead th {\n        text-align: right;\n    }\n</style>\n<table border=\"1\" class=\"dataframe\">\n  <thead>\n    <tr style=\"text-align: right;\">\n      <th></th>\n      <th>Unnamed: 0</th>\n      <th>name</th>\n      <th>latitude</th>\n      <th>longitude</th>\n    </tr>\n  </thead>\n  <tbody>\n    <tr>\n      <td>107</td>\n      <td>110</td>\n      <td>G B Road</td>\n      <td>19.2635</td>\n      <td>72.9741</td>\n    </tr>\n    <tr>\n      <td>120</td>\n      <td>123</td>\n      <td>Ghodbunder Road</td>\n      <td>19.218330</td>\n      <td>72.978088</td>\n    </tr>\n    <tr>\n      <td>157</td>\n      <td>161</td>\n      <td>JVLR</td>\n      <td>19.140512</td>\n      <td>72.842155</td>\n    </tr>\n    <tr>\n      <td>203</td>\n      <td>208</td>\n      <td>Kolshet Road</td>\n      <td>19.240892</td>\n      <td>72.992497</td>\n    </tr>\n    <tr>\n      <td>215</td>\n      <td>220</td>\n      <td>LBS Marg</td>\n      <td>19.174673</td>\n      <td>72.943108</td>\n    </tr>\n    <tr>\n      <td>217</td>\n      <td>222</td>\n      <td>Linking Road</td>\n      <td>19.061486</td>\n      <td>72.835943</td>\n    </tr>\n    <tr>\n      <td>296</td>\n      <td>301</td>\n      <td>Peddar Road</td>\n      <td>18.968249</td>\n      <td>72.807385</td>\n    </tr>\n    <tr>\n      <td>302</td>\n      <td>307</td>\n      <td>Pokhran-2</td>\n      <td>19.218330</td>\n      <td>72.978088</td>\n    </tr>\n    <tr>\n      <td>359</td>\n      <td>364</td>\n      <td>Sector 19 Kharghar</td>\n      <td>19.0501</td>\n      <td>73.0782</td>\n    </tr>\n    <tr>\n      <td>434</td>\n      <td>439</td>\n      <td>Sector-27 Kharghar</td>\n      <td>19.1978</td>\n      <td>72.9600</td>\n    </tr>\n    <tr>\n      <td>457</td>\n      <td>462</td>\n      <td>Sector-6 Airoli</td>\n      <td>19.1465</td>\n      <td>72.9988</td>\n    </tr>\n    <tr>\n      <td>499</td>\n      <td>505</td>\n      <td>Teen Haath Naka</td>\n      <td>19.1842829</td>\n      <td>72.9581169</td>\n    </tr>\n    <tr>\n      <td>528</td>\n      <td>536</td>\n      <td>Veera Desai Road</td>\n      <td>19.136326</td>\n      <td>72.827660</td>\n    </tr>\n    <tr>\n      <td>551</td>\n      <td>559</td>\n      <td>Yari Road</td>\n      <td>19.138458</td>\n      <td>72.809321</td>\n    </tr>\n    <tr>\n      <td>559</td>\n      <td>567</td>\n      <td>Altamount Road</td>\n      <td>19.076090</td>\n      <td>72.877426</td>\n    </tr>\n    <tr>\n      <td>597</td>\n      <td>605</td>\n      <td>Dahiwali Tarf Waredi</td>\n      <td>18.877235</td>\n      <td>72.928337</td>\n    </tr>\n    <tr>\n      <td>607</td>\n      <td>615</td>\n      <td>Eden Wood</td>\n      <td>19.1380</td>\n      <td>72.8278</td>\n    </tr>\n    <tr>\n      <td>631</td>\n      <td>640</td>\n      <td>Hill Road</td>\n      <td>19.136326</td>\n      <td>72.827660</td>\n    </tr>\n    <tr>\n      <td>650</td>\n      <td>659</td>\n      <td>Karade Khurd</td>\n      <td>18.920902</td>\n      <td>73.323097</td>\n    </tr>\n    <tr>\n      <td>662</td>\n      <td>671</td>\n      <td>Kolbad Road</td>\n      <td>19.204139</td>\n      <td>72.975104</td>\n    </tr>\n    <tr>\n      <td>672</td>\n      <td>681</td>\n      <td>Link Road</td>\n      <td>19.141213</td>\n      <td>72.830906</td>\n    </tr>\n    <tr>\n      <td>687</td>\n      <td>697</td>\n      <td>Marine Drive Chowpatty</td>\n      <td>18.954269</td>\n      <td>72.811501</td>\n    </tr>\n    <tr>\n      <td>689</td>\n      <td>699</td>\n      <td>Marve Road</td>\n      <td>19.182755</td>\n      <td>72.840157</td>\n    </tr>\n    <tr>\n      <td>704</td>\n      <td>714</td>\n      <td>Napean Sea Road</td>\n      <td>18.957534</td>\n      <td>72.799986</td>\n    </tr>\n    <tr>\n      <td>737</td>\n      <td>747</td>\n      <td>Ram Maruti Road</td>\n      <td>19.226662</td>\n      <td>72.983833</td>\n    </tr>\n    <tr>\n      <td>817</td>\n      <td>827</td>\n      <td>Sector-31 Kamothe</td>\n      <td>19.016804</td>\n      <td>73.096458</td>\n    </tr>\n    <tr>\n      <td>894</td>\n      <td>906</td>\n      <td>Waterfield Road</td>\n      <td>19.063966</td>\n      <td>72.835624</td>\n    </tr>\n  </tbody>\n</table>\n</div>"
     },
     "metadata": {},
     "execution_count": 39
    }
   ],
   "source": [
    "data[data.latitude.map(type) != float]"
   ]
  },
  {
   "cell_type": "code",
   "execution_count": 40,
   "metadata": {},
   "outputs": [
    {
     "output_type": "execute_result",
     "data": {
      "text/plain": "687    18.954269\nName: latitude, dtype: object"
     },
     "metadata": {},
     "execution_count": 40
    }
   ],
   "source": [
    "data.loc[data[\"name\"] == \"Marine Drive Chowpatty\",\"latitude\"]"
   ]
  },
  {
   "cell_type": "code",
   "execution_count": 44,
   "metadata": {},
   "outputs": [],
   "source": [
    "data.loc[data.latitude.map(type) != float,\"latitude\"] = data.loc[data.latitude.map(type) != float,\"latitude\"].astype(\"float\")"
   ]
  },
  {
   "cell_type": "code",
   "execution_count": 49,
   "metadata": {},
   "outputs": [
    {
     "output_type": "execute_result",
     "data": {
      "text/plain": "Empty DataFrame\nColumns: [Unnamed: 0, name, latitude, longitude]\nIndex: []",
      "text/html": "<div>\n<style scoped>\n    .dataframe tbody tr th:only-of-type {\n        vertical-align: middle;\n    }\n\n    .dataframe tbody tr th {\n        vertical-align: top;\n    }\n\n    .dataframe thead th {\n        text-align: right;\n    }\n</style>\n<table border=\"1\" class=\"dataframe\">\n  <thead>\n    <tr style=\"text-align: right;\">\n      <th></th>\n      <th>Unnamed: 0</th>\n      <th>name</th>\n      <th>latitude</th>\n      <th>longitude</th>\n    </tr>\n  </thead>\n  <tbody>\n  </tbody>\n</table>\n</div>"
     },
     "metadata": {},
     "execution_count": 49
    }
   ],
   "source": [
    "data[data.latitude.map(type) != float]"
   ]
  },
  {
   "cell_type": "code",
   "execution_count": 60,
   "metadata": {},
   "outputs": [
    {
     "output_type": "execute_result",
     "data": {
      "text/plain": "float"
     },
     "metadata": {},
     "execution_count": 60
    }
   ],
   "source": [
    "type(data.iat[687,1])"
   ]
  },
  {
   "cell_type": "code",
   "execution_count": 64,
   "metadata": {},
   "outputs": [
    {
     "output_type": "execute_result",
     "data": {
      "text/plain": "                       name latitude   longitude\n107                G B Road  19.2635     72.9741\n120         Ghodbunder Road  19.2183   72.978088\n157                    JVLR  19.1405   72.842155\n203            Kolshet Road  19.2409   72.992497\n215                LBS Marg  19.1747   72.943108\n217            Linking Road  19.0615   72.835943\n296             Peddar Road  18.9682   72.807385\n302               Pokhran-2  19.2183   72.978088\n359      Sector 19 Kharghar  19.0501     73.0782\n434      Sector-27 Kharghar  19.1978     72.9600\n457         Sector-6 Airoli  19.1465     72.9988\n499         Teen Haath Naka  19.1843  72.9581169\n528        Veera Desai Road  19.1363   72.827660\n551               Yari Road  19.1385   72.809321\n559          Altamount Road  19.0761   72.877426\n597    Dahiwali Tarf Waredi  18.8772   72.928337\n607               Eden Wood   19.138     72.8278\n631               Hill Road  19.1363   72.827660\n650            Karade Khurd  18.9209   73.323097\n662             Kolbad Road  19.2041   72.975104\n672               Link Road  19.1412   72.830906\n687  Marine Drive Chowpatty  18.9543   72.811501\n689              Marve Road  19.1828   72.840157\n704         Napean Sea Road  18.9575   72.799986\n737         Ram Maruti Road  19.2267   72.983833\n817       Sector-31 Kamothe  19.0168   73.096458\n894         Waterfield Road   19.064   72.835624",
      "text/html": "<div>\n<style scoped>\n    .dataframe tbody tr th:only-of-type {\n        vertical-align: middle;\n    }\n\n    .dataframe tbody tr th {\n        vertical-align: top;\n    }\n\n    .dataframe thead th {\n        text-align: right;\n    }\n</style>\n<table border=\"1\" class=\"dataframe\">\n  <thead>\n    <tr style=\"text-align: right;\">\n      <th></th>\n      <th>name</th>\n      <th>latitude</th>\n      <th>longitude</th>\n    </tr>\n  </thead>\n  <tbody>\n    <tr>\n      <td>107</td>\n      <td>G B Road</td>\n      <td>19.2635</td>\n      <td>72.9741</td>\n    </tr>\n    <tr>\n      <td>120</td>\n      <td>Ghodbunder Road</td>\n      <td>19.2183</td>\n      <td>72.978088</td>\n    </tr>\n    <tr>\n      <td>157</td>\n      <td>JVLR</td>\n      <td>19.1405</td>\n      <td>72.842155</td>\n    </tr>\n    <tr>\n      <td>203</td>\n      <td>Kolshet Road</td>\n      <td>19.2409</td>\n      <td>72.992497</td>\n    </tr>\n    <tr>\n      <td>215</td>\n      <td>LBS Marg</td>\n      <td>19.1747</td>\n      <td>72.943108</td>\n    </tr>\n    <tr>\n      <td>217</td>\n      <td>Linking Road</td>\n      <td>19.0615</td>\n      <td>72.835943</td>\n    </tr>\n    <tr>\n      <td>296</td>\n      <td>Peddar Road</td>\n      <td>18.9682</td>\n      <td>72.807385</td>\n    </tr>\n    <tr>\n      <td>302</td>\n      <td>Pokhran-2</td>\n      <td>19.2183</td>\n      <td>72.978088</td>\n    </tr>\n    <tr>\n      <td>359</td>\n      <td>Sector 19 Kharghar</td>\n      <td>19.0501</td>\n      <td>73.0782</td>\n    </tr>\n    <tr>\n      <td>434</td>\n      <td>Sector-27 Kharghar</td>\n      <td>19.1978</td>\n      <td>72.9600</td>\n    </tr>\n    <tr>\n      <td>457</td>\n      <td>Sector-6 Airoli</td>\n      <td>19.1465</td>\n      <td>72.9988</td>\n    </tr>\n    <tr>\n      <td>499</td>\n      <td>Teen Haath Naka</td>\n      <td>19.1843</td>\n      <td>72.9581169</td>\n    </tr>\n    <tr>\n      <td>528</td>\n      <td>Veera Desai Road</td>\n      <td>19.1363</td>\n      <td>72.827660</td>\n    </tr>\n    <tr>\n      <td>551</td>\n      <td>Yari Road</td>\n      <td>19.1385</td>\n      <td>72.809321</td>\n    </tr>\n    <tr>\n      <td>559</td>\n      <td>Altamount Road</td>\n      <td>19.0761</td>\n      <td>72.877426</td>\n    </tr>\n    <tr>\n      <td>597</td>\n      <td>Dahiwali Tarf Waredi</td>\n      <td>18.8772</td>\n      <td>72.928337</td>\n    </tr>\n    <tr>\n      <td>607</td>\n      <td>Eden Wood</td>\n      <td>19.138</td>\n      <td>72.8278</td>\n    </tr>\n    <tr>\n      <td>631</td>\n      <td>Hill Road</td>\n      <td>19.1363</td>\n      <td>72.827660</td>\n    </tr>\n    <tr>\n      <td>650</td>\n      <td>Karade Khurd</td>\n      <td>18.9209</td>\n      <td>73.323097</td>\n    </tr>\n    <tr>\n      <td>662</td>\n      <td>Kolbad Road</td>\n      <td>19.2041</td>\n      <td>72.975104</td>\n    </tr>\n    <tr>\n      <td>672</td>\n      <td>Link Road</td>\n      <td>19.1412</td>\n      <td>72.830906</td>\n    </tr>\n    <tr>\n      <td>687</td>\n      <td>Marine Drive Chowpatty</td>\n      <td>18.9543</td>\n      <td>72.811501</td>\n    </tr>\n    <tr>\n      <td>689</td>\n      <td>Marve Road</td>\n      <td>19.1828</td>\n      <td>72.840157</td>\n    </tr>\n    <tr>\n      <td>704</td>\n      <td>Napean Sea Road</td>\n      <td>18.9575</td>\n      <td>72.799986</td>\n    </tr>\n    <tr>\n      <td>737</td>\n      <td>Ram Maruti Road</td>\n      <td>19.2267</td>\n      <td>72.983833</td>\n    </tr>\n    <tr>\n      <td>817</td>\n      <td>Sector-31 Kamothe</td>\n      <td>19.0168</td>\n      <td>73.096458</td>\n    </tr>\n    <tr>\n      <td>894</td>\n      <td>Waterfield Road</td>\n      <td>19.064</td>\n      <td>72.835624</td>\n    </tr>\n  </tbody>\n</table>\n</div>"
     },
     "metadata": {},
     "execution_count": 64
    }
   ],
   "source": [
    "data[data.longitude.map(type) != float]"
   ]
  },
  {
   "cell_type": "code",
   "execution_count": 67,
   "metadata": {},
   "outputs": [
    {
     "output_type": "stream",
     "name": "stdout",
     "text": "72.799986\n"
    },
    {
     "output_type": "execute_result",
     "data": {
      "text/plain": "str"
     },
     "metadata": {},
     "execution_count": 67
    }
   ],
   "source": [
    "print(data.iat[704,2])\n",
    "type(data.iat[704,2])"
   ]
  },
  {
   "cell_type": "code",
   "execution_count": 68,
   "metadata": {},
   "outputs": [],
   "source": [
    "data.loc[data.longitude.map(type) != float,\"longitude\"] = data.loc[data.longitude.map(type) != float,\"longitude\"].astype(\"float\")"
   ]
  },
  {
   "cell_type": "code",
   "execution_count": 69,
   "metadata": {},
   "outputs": [
    {
     "output_type": "stream",
     "name": "stdout",
     "text": "72.799986\n"
    },
    {
     "output_type": "execute_result",
     "data": {
      "text/plain": "float"
     },
     "metadata": {},
     "execution_count": 69
    }
   ],
   "source": [
    "print(data.iat[704,2])\n",
    "type(data.iat[704,2])"
   ]
  },
  {
   "cell_type": "code",
   "execution_count": 70,
   "metadata": {},
   "outputs": [
    {
     "output_type": "execute_result",
     "data": {
      "text/plain": "                name latitude longitude\n0         4 Bunglows  19.1247   72.8264\n1  Aarey Milk Colony   19.151   72.8831\n2    Abhyudaya Nagar  18.9914   72.8442\n3           Adaigaon  19.0086   73.1282\n4          Adharwadi   19.257    73.124",
      "text/html": "<div>\n<style scoped>\n    .dataframe tbody tr th:only-of-type {\n        vertical-align: middle;\n    }\n\n    .dataframe tbody tr th {\n        vertical-align: top;\n    }\n\n    .dataframe thead th {\n        text-align: right;\n    }\n</style>\n<table border=\"1\" class=\"dataframe\">\n  <thead>\n    <tr style=\"text-align: right;\">\n      <th></th>\n      <th>name</th>\n      <th>latitude</th>\n      <th>longitude</th>\n    </tr>\n  </thead>\n  <tbody>\n    <tr>\n      <td>0</td>\n      <td>4 Bunglows</td>\n      <td>19.1247</td>\n      <td>72.8264</td>\n    </tr>\n    <tr>\n      <td>1</td>\n      <td>Aarey Milk Colony</td>\n      <td>19.151</td>\n      <td>72.8831</td>\n    </tr>\n    <tr>\n      <td>2</td>\n      <td>Abhyudaya Nagar</td>\n      <td>18.9914</td>\n      <td>72.8442</td>\n    </tr>\n    <tr>\n      <td>3</td>\n      <td>Adaigaon</td>\n      <td>19.0086</td>\n      <td>73.1282</td>\n    </tr>\n    <tr>\n      <td>4</td>\n      <td>Adharwadi</td>\n      <td>19.257</td>\n      <td>73.124</td>\n    </tr>\n  </tbody>\n</table>\n</div>"
     },
     "metadata": {},
     "execution_count": 70
    }
   ],
   "source": [
    "data.head()"
   ]
  },
  {
   "cell_type": "code",
   "execution_count": 72,
   "metadata": {},
   "outputs": [
    {
     "output_type": "execute_result",
     "data": {
      "text/plain": "                 name latitude longitude\n869        Thakurwadi  20.0154   72.7289\n37            Belpada  20.2524   83.2278\n335       Satya Nagar  20.2804   85.8499\n70           Chikholi  20.3491   76.2653\n116       Geeta Nagar  20.3716   72.9054\n648          Kanakiya    20.83   70.8982\n862       Suyog Nagar  21.1086   79.0825\n585  Chakradhar Nagar  21.8963   83.4043\n888       Vijay Nagar  22.7533   75.8937\n684            Mandvi  22.8333   69.3555\n9            Ambawadi  23.0224    72.543\n623   Gulmohar Colony  23.1844   77.4379\n110      Gandhi Nagar  23.2156   72.6369\n310       Radha Nagar  23.3837   87.2997\n567       Ashok Nagar  24.5775   77.7318\n233             Manda  25.0982   82.2624\n130     Hanuman Nagar  25.5876   85.1628\n736    Rajendra Nagar  25.6068   85.1652\n536       Vinay Nagar  26.2314   78.1593\n621      Govind Nagar  26.4492   80.3094\n10     Ambedkar Nagar  26.4684   82.6915\n286        Palm Beach  26.7056   80.0364\n849       Shiv Colony  26.8717   75.7931\n682      Mahesh Nagar  26.8788   75.7842\n748   Sarvodaya Nagar   26.883    80.969\n515    Vaishali Nagar  26.9048   75.7489\n18        Anand Nagar  27.1023   83.2759\n486   Siddharth Nagar  27.2716    82.821\n880     Valmiki Nagar  27.4266   83.9074\n890       Virat Nagar   27.431     76.19\n892         Vrindavan   27.565   77.6593\n739       Ratan Nagar   28.214    74.953\n644    Kailash Colony  28.5535   77.2426\n525      Vasant Vihar  28.5603   77.1617\n609    Friends Colony  28.5675   77.2691\n759        Sector 19B  28.5764   77.0433\n111      Ganesh Nagar  28.6246   77.2829\n214       Laxmi Nagar  28.6276   77.2784\n505       Tilak Nagar  28.6389   77.0867\n858     Subhash Nagar  28.6404    77.105\n271       Nehru Nagar  28.6534   77.4444\n724       Patel Nagar  28.6554   77.1646\n252        Moti Nagar  28.6623   77.1411\n159     Kailash Nagar  28.6653   77.2585\n649       Kanti Nagar   28.667   77.2772\n478     Shastri Nagar  28.6746   77.1802\n554      Adarsh Nagar  28.7193   77.1736\n898       Yadav Nagar    28.75   77.1406\n637   Industrial Area  28.7887   77.0593\n290        Pant Nagar  29.0222   79.4908\n580      Bhadra Nagar  29.1043   75.1655\n899      Yamuna Nagar   30.129   77.2674\n557        Ajit Nagar  30.6496   76.7567\n490      Sunder Nagar  31.5299   76.8889\n632        Hira Nagar  32.4556   75.2728",
      "text/html": "<div>\n<style scoped>\n    .dataframe tbody tr th:only-of-type {\n        vertical-align: middle;\n    }\n\n    .dataframe tbody tr th {\n        vertical-align: top;\n    }\n\n    .dataframe thead th {\n        text-align: right;\n    }\n</style>\n<table border=\"1\" class=\"dataframe\">\n  <thead>\n    <tr style=\"text-align: right;\">\n      <th></th>\n      <th>name</th>\n      <th>latitude</th>\n      <th>longitude</th>\n    </tr>\n  </thead>\n  <tbody>\n    <tr>\n      <td>869</td>\n      <td>Thakurwadi</td>\n      <td>20.0154</td>\n      <td>72.7289</td>\n    </tr>\n    <tr>\n      <td>37</td>\n      <td>Belpada</td>\n      <td>20.2524</td>\n      <td>83.2278</td>\n    </tr>\n    <tr>\n      <td>335</td>\n      <td>Satya Nagar</td>\n      <td>20.2804</td>\n      <td>85.8499</td>\n    </tr>\n    <tr>\n      <td>70</td>\n      <td>Chikholi</td>\n      <td>20.3491</td>\n      <td>76.2653</td>\n    </tr>\n    <tr>\n      <td>116</td>\n      <td>Geeta Nagar</td>\n      <td>20.3716</td>\n      <td>72.9054</td>\n    </tr>\n    <tr>\n      <td>648</td>\n      <td>Kanakiya</td>\n      <td>20.83</td>\n      <td>70.8982</td>\n    </tr>\n    <tr>\n      <td>862</td>\n      <td>Suyog Nagar</td>\n      <td>21.1086</td>\n      <td>79.0825</td>\n    </tr>\n    <tr>\n      <td>585</td>\n      <td>Chakradhar Nagar</td>\n      <td>21.8963</td>\n      <td>83.4043</td>\n    </tr>\n    <tr>\n      <td>888</td>\n      <td>Vijay Nagar</td>\n      <td>22.7533</td>\n      <td>75.8937</td>\n    </tr>\n    <tr>\n      <td>684</td>\n      <td>Mandvi</td>\n      <td>22.8333</td>\n      <td>69.3555</td>\n    </tr>\n    <tr>\n      <td>9</td>\n      <td>Ambawadi</td>\n      <td>23.0224</td>\n      <td>72.543</td>\n    </tr>\n    <tr>\n      <td>623</td>\n      <td>Gulmohar Colony</td>\n      <td>23.1844</td>\n      <td>77.4379</td>\n    </tr>\n    <tr>\n      <td>110</td>\n      <td>Gandhi Nagar</td>\n      <td>23.2156</td>\n      <td>72.6369</td>\n    </tr>\n    <tr>\n      <td>310</td>\n      <td>Radha Nagar</td>\n      <td>23.3837</td>\n      <td>87.2997</td>\n    </tr>\n    <tr>\n      <td>567</td>\n      <td>Ashok Nagar</td>\n      <td>24.5775</td>\n      <td>77.7318</td>\n    </tr>\n    <tr>\n      <td>233</td>\n      <td>Manda</td>\n      <td>25.0982</td>\n      <td>82.2624</td>\n    </tr>\n    <tr>\n      <td>130</td>\n      <td>Hanuman Nagar</td>\n      <td>25.5876</td>\n      <td>85.1628</td>\n    </tr>\n    <tr>\n      <td>736</td>\n      <td>Rajendra Nagar</td>\n      <td>25.6068</td>\n      <td>85.1652</td>\n    </tr>\n    <tr>\n      <td>536</td>\n      <td>Vinay Nagar</td>\n      <td>26.2314</td>\n      <td>78.1593</td>\n    </tr>\n    <tr>\n      <td>621</td>\n      <td>Govind Nagar</td>\n      <td>26.4492</td>\n      <td>80.3094</td>\n    </tr>\n    <tr>\n      <td>10</td>\n      <td>Ambedkar Nagar</td>\n      <td>26.4684</td>\n      <td>82.6915</td>\n    </tr>\n    <tr>\n      <td>286</td>\n      <td>Palm Beach</td>\n      <td>26.7056</td>\n      <td>80.0364</td>\n    </tr>\n    <tr>\n      <td>849</td>\n      <td>Shiv Colony</td>\n      <td>26.8717</td>\n      <td>75.7931</td>\n    </tr>\n    <tr>\n      <td>682</td>\n      <td>Mahesh Nagar</td>\n      <td>26.8788</td>\n      <td>75.7842</td>\n    </tr>\n    <tr>\n      <td>748</td>\n      <td>Sarvodaya Nagar</td>\n      <td>26.883</td>\n      <td>80.969</td>\n    </tr>\n    <tr>\n      <td>515</td>\n      <td>Vaishali Nagar</td>\n      <td>26.9048</td>\n      <td>75.7489</td>\n    </tr>\n    <tr>\n      <td>18</td>\n      <td>Anand Nagar</td>\n      <td>27.1023</td>\n      <td>83.2759</td>\n    </tr>\n    <tr>\n      <td>486</td>\n      <td>Siddharth Nagar</td>\n      <td>27.2716</td>\n      <td>82.821</td>\n    </tr>\n    <tr>\n      <td>880</td>\n      <td>Valmiki Nagar</td>\n      <td>27.4266</td>\n      <td>83.9074</td>\n    </tr>\n    <tr>\n      <td>890</td>\n      <td>Virat Nagar</td>\n      <td>27.431</td>\n      <td>76.19</td>\n    </tr>\n    <tr>\n      <td>892</td>\n      <td>Vrindavan</td>\n      <td>27.565</td>\n      <td>77.6593</td>\n    </tr>\n    <tr>\n      <td>739</td>\n      <td>Ratan Nagar</td>\n      <td>28.214</td>\n      <td>74.953</td>\n    </tr>\n    <tr>\n      <td>644</td>\n      <td>Kailash Colony</td>\n      <td>28.5535</td>\n      <td>77.2426</td>\n    </tr>\n    <tr>\n      <td>525</td>\n      <td>Vasant Vihar</td>\n      <td>28.5603</td>\n      <td>77.1617</td>\n    </tr>\n    <tr>\n      <td>609</td>\n      <td>Friends Colony</td>\n      <td>28.5675</td>\n      <td>77.2691</td>\n    </tr>\n    <tr>\n      <td>759</td>\n      <td>Sector 19B</td>\n      <td>28.5764</td>\n      <td>77.0433</td>\n    </tr>\n    <tr>\n      <td>111</td>\n      <td>Ganesh Nagar</td>\n      <td>28.6246</td>\n      <td>77.2829</td>\n    </tr>\n    <tr>\n      <td>214</td>\n      <td>Laxmi Nagar</td>\n      <td>28.6276</td>\n      <td>77.2784</td>\n    </tr>\n    <tr>\n      <td>505</td>\n      <td>Tilak Nagar</td>\n      <td>28.6389</td>\n      <td>77.0867</td>\n    </tr>\n    <tr>\n      <td>858</td>\n      <td>Subhash Nagar</td>\n      <td>28.6404</td>\n      <td>77.105</td>\n    </tr>\n    <tr>\n      <td>271</td>\n      <td>Nehru Nagar</td>\n      <td>28.6534</td>\n      <td>77.4444</td>\n    </tr>\n    <tr>\n      <td>724</td>\n      <td>Patel Nagar</td>\n      <td>28.6554</td>\n      <td>77.1646</td>\n    </tr>\n    <tr>\n      <td>252</td>\n      <td>Moti Nagar</td>\n      <td>28.6623</td>\n      <td>77.1411</td>\n    </tr>\n    <tr>\n      <td>159</td>\n      <td>Kailash Nagar</td>\n      <td>28.6653</td>\n      <td>77.2585</td>\n    </tr>\n    <tr>\n      <td>649</td>\n      <td>Kanti Nagar</td>\n      <td>28.667</td>\n      <td>77.2772</td>\n    </tr>\n    <tr>\n      <td>478</td>\n      <td>Shastri Nagar</td>\n      <td>28.6746</td>\n      <td>77.1802</td>\n    </tr>\n    <tr>\n      <td>554</td>\n      <td>Adarsh Nagar</td>\n      <td>28.7193</td>\n      <td>77.1736</td>\n    </tr>\n    <tr>\n      <td>898</td>\n      <td>Yadav Nagar</td>\n      <td>28.75</td>\n      <td>77.1406</td>\n    </tr>\n    <tr>\n      <td>637</td>\n      <td>Industrial Area</td>\n      <td>28.7887</td>\n      <td>77.0593</td>\n    </tr>\n    <tr>\n      <td>290</td>\n      <td>Pant Nagar</td>\n      <td>29.0222</td>\n      <td>79.4908</td>\n    </tr>\n    <tr>\n      <td>580</td>\n      <td>Bhadra Nagar</td>\n      <td>29.1043</td>\n      <td>75.1655</td>\n    </tr>\n    <tr>\n      <td>899</td>\n      <td>Yamuna Nagar</td>\n      <td>30.129</td>\n      <td>77.2674</td>\n    </tr>\n    <tr>\n      <td>557</td>\n      <td>Ajit Nagar</td>\n      <td>30.6496</td>\n      <td>76.7567</td>\n    </tr>\n    <tr>\n      <td>490</td>\n      <td>Sunder Nagar</td>\n      <td>31.5299</td>\n      <td>76.8889</td>\n    </tr>\n    <tr>\n      <td>632</td>\n      <td>Hira Nagar</td>\n      <td>32.4556</td>\n      <td>75.2728</td>\n    </tr>\n  </tbody>\n</table>\n</div>"
     },
     "metadata": {},
     "execution_count": 72
    }
   ],
   "source": [
    "data[data[\"latitude\"] > 20].sort_values(by = \"latitude\")"
   ]
  },
  {
   "cell_type": "code",
   "execution_count": 77,
   "metadata": {},
   "outputs": [],
   "source": [
    "# change search query to place + \"mumbai latitude and longitude\" and run the web scraping query for the names of places below"
   ]
  },
  {
   "cell_type": "code",
   "execution_count": 79,
   "metadata": {},
   "outputs": [],
   "source": [
    "run2 = data.loc[data[\"latitude\"] > 20,\"name\"].to_list()"
   ]
  },
  {
   "cell_type": "code",
   "execution_count": 115,
   "metadata": {},
   "outputs": [],
   "source": [
    "data[\"latitude\"] = data[\"latitude\"].astype(\"float\")"
   ]
  },
  {
   "cell_type": "code",
   "execution_count": 116,
   "metadata": {},
   "outputs": [],
   "source": [
    "data[\"longitude\"] = data[\"longitude\"].astype(\"float\")"
   ]
  },
  {
   "cell_type": "code",
   "execution_count": 4,
   "metadata": {},
   "outputs": [
    {
     "output_type": "execute_result",
     "data": {
      "text/plain": "     Unnamed: 0        name   latitude  longitude\n869         869  Thakurwadi  20.003254  72.728655",
      "text/html": "<div>\n<style scoped>\n    .dataframe tbody tr th:only-of-type {\n        vertical-align: middle;\n    }\n\n    .dataframe tbody tr th {\n        vertical-align: top;\n    }\n\n    .dataframe thead th {\n        text-align: right;\n    }\n</style>\n<table border=\"1\" class=\"dataframe\">\n  <thead>\n    <tr style=\"text-align: right;\">\n      <th></th>\n      <th>Unnamed: 0</th>\n      <th>name</th>\n      <th>latitude</th>\n      <th>longitude</th>\n    </tr>\n  </thead>\n  <tbody>\n    <tr>\n      <td>869</td>\n      <td>869</td>\n      <td>Thakurwadi</td>\n      <td>20.003254</td>\n      <td>72.728655</td>\n    </tr>\n  </tbody>\n</table>\n</div>"
     },
     "metadata": {},
     "execution_count": 4
    }
   ],
   "source": [
    " data[data[\"latitude\"] > 20]"
   ]
  },
  {
   "cell_type": "code",
   "execution_count": 119,
   "metadata": {},
   "outputs": [
    {
     "output_type": "execute_result",
     "data": {
      "text/plain": "                name  latitude  longitude\n0         4 Bunglows   19.1247    72.8264\n1  Aarey Milk Colony   19.1510    72.8831\n2    Abhyudaya Nagar   18.9914    72.8442\n3           Adaigaon   19.0086    73.1282\n4          Adharwadi   19.2570    73.1240",
      "text/html": "<div>\n<style scoped>\n    .dataframe tbody tr th:only-of-type {\n        vertical-align: middle;\n    }\n\n    .dataframe tbody tr th {\n        vertical-align: top;\n    }\n\n    .dataframe thead th {\n        text-align: right;\n    }\n</style>\n<table border=\"1\" class=\"dataframe\">\n  <thead>\n    <tr style=\"text-align: right;\">\n      <th></th>\n      <th>name</th>\n      <th>latitude</th>\n      <th>longitude</th>\n    </tr>\n  </thead>\n  <tbody>\n    <tr>\n      <td>0</td>\n      <td>4 Bunglows</td>\n      <td>19.1247</td>\n      <td>72.8264</td>\n    </tr>\n    <tr>\n      <td>1</td>\n      <td>Aarey Milk Colony</td>\n      <td>19.1510</td>\n      <td>72.8831</td>\n    </tr>\n    <tr>\n      <td>2</td>\n      <td>Abhyudaya Nagar</td>\n      <td>18.9914</td>\n      <td>72.8442</td>\n    </tr>\n    <tr>\n      <td>3</td>\n      <td>Adaigaon</td>\n      <td>19.0086</td>\n      <td>73.1282</td>\n    </tr>\n    <tr>\n      <td>4</td>\n      <td>Adharwadi</td>\n      <td>19.2570</td>\n      <td>73.1240</td>\n    </tr>\n  </tbody>\n</table>\n</div>"
     },
     "metadata": {},
     "execution_count": 119
    }
   ],
   "source": [
    "data.head()"
   ]
  },
  {
   "cell_type": "code",
   "execution_count": 120,
   "metadata": {},
   "outputs": [
    {
     "output_type": "stream",
     "name": "stdout",
     "text": "<class 'pandas.core.frame.DataFrame'>\nRangeIndex: 902 entries, 0 to 901\nData columns (total 3 columns):\nname         902 non-null object\nlatitude     902 non-null float64\nlongitude    902 non-null float64\ndtypes: float64(2), object(1)\nmemory usage: 21.3+ KB\n"
    }
   ],
   "source": [
    "data.info()"
   ]
  },
  {
   "cell_type": "code",
   "execution_count": 121,
   "metadata": {},
   "outputs": [],
   "source": [
    "# data.to_csv(\"Place_Cordinates.csv\")"
   ]
  },
  {
   "cell_type": "code",
   "execution_count": 7,
   "metadata": {},
   "outputs": [
    {
     "output_type": "execute_result",
     "data": {
      "text/plain": "                     name  latitude  longitude\n59   Chamundeshwari Nagar   12.2732    76.6707\n312    Rajiv Gandhi Nagar   12.9089    77.6300\n476          Shanti Nagar   12.9578    77.5993\n641          Jeevan Nagar   12.9642    77.6581\n532            Vijay Park   13.0655    80.2103\n145         Jawahar Nagar   13.1109    80.2274\n871        Tirupati Nagar   13.6288    79.4192\n686            Mantralaya   15.9414    77.4257\n16                 Amboli   15.9647    74.0036\n611            Ganeshwadi   16.7097    74.6854\n322                Sagaon   16.9178    74.0689\n572          Balaji Nagar   17.4824    78.4077\n729         Pragati Nagar   17.5186    78.3963",
      "text/html": "<div>\n<style scoped>\n    .dataframe tbody tr th:only-of-type {\n        vertical-align: middle;\n    }\n\n    .dataframe tbody tr th {\n        vertical-align: top;\n    }\n\n    .dataframe thead th {\n        text-align: right;\n    }\n</style>\n<table border=\"1\" class=\"dataframe\">\n  <thead>\n    <tr style=\"text-align: right;\">\n      <th></th>\n      <th>name</th>\n      <th>latitude</th>\n      <th>longitude</th>\n    </tr>\n  </thead>\n  <tbody>\n    <tr>\n      <td>59</td>\n      <td>Chamundeshwari Nagar</td>\n      <td>12.2732</td>\n      <td>76.6707</td>\n    </tr>\n    <tr>\n      <td>312</td>\n      <td>Rajiv Gandhi Nagar</td>\n      <td>12.9089</td>\n      <td>77.6300</td>\n    </tr>\n    <tr>\n      <td>476</td>\n      <td>Shanti Nagar</td>\n      <td>12.9578</td>\n      <td>77.5993</td>\n    </tr>\n    <tr>\n      <td>641</td>\n      <td>Jeevan Nagar</td>\n      <td>12.9642</td>\n      <td>77.6581</td>\n    </tr>\n    <tr>\n      <td>532</td>\n      <td>Vijay Park</td>\n      <td>13.0655</td>\n      <td>80.2103</td>\n    </tr>\n    <tr>\n      <td>145</td>\n      <td>Jawahar Nagar</td>\n      <td>13.1109</td>\n      <td>80.2274</td>\n    </tr>\n    <tr>\n      <td>871</td>\n      <td>Tirupati Nagar</td>\n      <td>13.6288</td>\n      <td>79.4192</td>\n    </tr>\n    <tr>\n      <td>686</td>\n      <td>Mantralaya</td>\n      <td>15.9414</td>\n      <td>77.4257</td>\n    </tr>\n    <tr>\n      <td>16</td>\n      <td>Amboli</td>\n      <td>15.9647</td>\n      <td>74.0036</td>\n    </tr>\n    <tr>\n      <td>611</td>\n      <td>Ganeshwadi</td>\n      <td>16.7097</td>\n      <td>74.6854</td>\n    </tr>\n    <tr>\n      <td>322</td>\n      <td>Sagaon</td>\n      <td>16.9178</td>\n      <td>74.0689</td>\n    </tr>\n    <tr>\n      <td>572</td>\n      <td>Balaji Nagar</td>\n      <td>17.4824</td>\n      <td>78.4077</td>\n    </tr>\n    <tr>\n      <td>729</td>\n      <td>Pragati Nagar</td>\n      <td>17.5186</td>\n      <td>78.3963</td>\n    </tr>\n  </tbody>\n</table>\n</div>"
     },
     "metadata": {},
     "execution_count": 7
    }
   ],
   "source": [
    "data[data[\"latitude\"] < 18].sort_values(by = \"latitude\")"
   ]
  },
  {
   "cell_type": "code",
   "execution_count": 13,
   "metadata": {},
   "outputs": [],
   "source": [
    "run_3 = {\"Chamundeshwari Nagar\":[18.9163,72.8196],\"Rajiv Gandhi Nagar\":[19.0412,72.8578],\"Shanti Nagar\":[19.1201,72.8645],\"Jeevan Nagar\":[19.1315,72.8335],\"Vijay Park\":[19.2029,72.8389],\"Jawahar Nagar\":[19.1606,72.8479],\"Tirupati Nagar\":[19.366636,72.816101],\"Mantralaya\":[18.9290,72.8301],\"Amboli\":[19.1258,72.8448],\"Ganeshwadi\":[19.0944,72.9038],\"Sagaon\":[19.196073,73.09349],\"Balaji Nagar\":[19.2470,72.8689],\"Pragati Nagar\":[19.1608,72.8388],\"Karave Nagar\":[19.1298,72.9354]}"
   ]
  },
  {
   "cell_type": "code",
   "execution_count": 14,
   "metadata": {},
   "outputs": [],
   "source": [
    "for p in run_3:\n",
    "    data.loc[data[\"name\"] == p,\"latitude\"] = run_3[p][0]\n",
    "    data.loc[data[\"name\"] == p,\"longitude\"] = run_3[p][1]"
   ]
  },
  {
   "cell_type": "code",
   "execution_count": 15,
   "metadata": {},
   "outputs": [],
   "source": [
    "data[\"latitude\"] = data[\"latitude\"].astype(\"float\")\n",
    "data[\"longitude\"] = data[\"longitude\"].astype(\"float\")"
   ]
  },
  {
   "cell_type": "code",
   "execution_count": 16,
   "metadata": {},
   "outputs": [
    {
     "output_type": "execute_result",
     "data": {
      "text/plain": "Empty DataFrame\nColumns: [name, latitude, longitude]\nIndex: []",
      "text/html": "<div>\n<style scoped>\n    .dataframe tbody tr th:only-of-type {\n        vertical-align: middle;\n    }\n\n    .dataframe tbody tr th {\n        vertical-align: top;\n    }\n\n    .dataframe thead th {\n        text-align: right;\n    }\n</style>\n<table border=\"1\" class=\"dataframe\">\n  <thead>\n    <tr style=\"text-align: right;\">\n      <th></th>\n      <th>name</th>\n      <th>latitude</th>\n      <th>longitude</th>\n    </tr>\n  </thead>\n  <tbody>\n  </tbody>\n</table>\n</div>"
     },
     "metadata": {},
     "execution_count": 16
    }
   ],
   "source": [
    "data[data[\"latitude\"] < 18.5].sort_values(by = \"latitude\")"
   ]
  },
  {
   "cell_type": "code",
   "execution_count": 17,
   "metadata": {},
   "outputs": [
    {
     "output_type": "execute_result",
     "data": {
      "text/plain": "count    902.000000\nmean      72.966439\nstd        0.145118\nmin       72.728655\n25%       72.852300\n50%       72.955600\n75%       73.039050\nmax       74.472800\nName: longitude, dtype: float64"
     },
     "metadata": {},
     "execution_count": 17
    }
   ],
   "source": [
    "data[\"longitude\"].describe()"
   ]
  },
  {
   "cell_type": "code",
   "execution_count": 21,
   "metadata": {},
   "outputs": [
    {
     "output_type": "execute_result",
     "data": {
      "text/plain": "                   name   latitude  longitude\n273               Neral  19.023000  73.317500\n650        Karade Khurd  18.920902  73.323097\n25               Atgaon  19.504200  73.325200\n475             Shahpur  19.452100  73.328000\n843            Shahapur  19.452100  73.328000\n181              Karjat  18.910200  73.328300\n201             Khopoli  18.793900  73.334600\n45             Bhivpuri  18.940500  73.456300\n596            Dahivali  18.778800  73.478800\n483            Shirgaon  18.680400  73.688300\n715                Nere  18.626400  73.706600\n735  Raje Shivaji Nagar  18.663900  73.816900\n852       Shivaji Nagar  18.531400  73.844600\n326       Sainath Nagar  18.540400  73.928600\n205           Kopargaon  19.884900  74.472800",
      "text/html": "<div>\n<style scoped>\n    .dataframe tbody tr th:only-of-type {\n        vertical-align: middle;\n    }\n\n    .dataframe tbody tr th {\n        vertical-align: top;\n    }\n\n    .dataframe thead th {\n        text-align: right;\n    }\n</style>\n<table border=\"1\" class=\"dataframe\">\n  <thead>\n    <tr style=\"text-align: right;\">\n      <th></th>\n      <th>name</th>\n      <th>latitude</th>\n      <th>longitude</th>\n    </tr>\n  </thead>\n  <tbody>\n    <tr>\n      <td>273</td>\n      <td>Neral</td>\n      <td>19.023000</td>\n      <td>73.317500</td>\n    </tr>\n    <tr>\n      <td>650</td>\n      <td>Karade Khurd</td>\n      <td>18.920902</td>\n      <td>73.323097</td>\n    </tr>\n    <tr>\n      <td>25</td>\n      <td>Atgaon</td>\n      <td>19.504200</td>\n      <td>73.325200</td>\n    </tr>\n    <tr>\n      <td>475</td>\n      <td>Shahpur</td>\n      <td>19.452100</td>\n      <td>73.328000</td>\n    </tr>\n    <tr>\n      <td>843</td>\n      <td>Shahapur</td>\n      <td>19.452100</td>\n      <td>73.328000</td>\n    </tr>\n    <tr>\n      <td>181</td>\n      <td>Karjat</td>\n      <td>18.910200</td>\n      <td>73.328300</td>\n    </tr>\n    <tr>\n      <td>201</td>\n      <td>Khopoli</td>\n      <td>18.793900</td>\n      <td>73.334600</td>\n    </tr>\n    <tr>\n      <td>45</td>\n      <td>Bhivpuri</td>\n      <td>18.940500</td>\n      <td>73.456300</td>\n    </tr>\n    <tr>\n      <td>596</td>\n      <td>Dahivali</td>\n      <td>18.778800</td>\n      <td>73.478800</td>\n    </tr>\n    <tr>\n      <td>483</td>\n      <td>Shirgaon</td>\n      <td>18.680400</td>\n      <td>73.688300</td>\n    </tr>\n    <tr>\n      <td>715</td>\n      <td>Nere</td>\n      <td>18.626400</td>\n      <td>73.706600</td>\n    </tr>\n    <tr>\n      <td>735</td>\n      <td>Raje Shivaji Nagar</td>\n      <td>18.663900</td>\n      <td>73.816900</td>\n    </tr>\n    <tr>\n      <td>852</td>\n      <td>Shivaji Nagar</td>\n      <td>18.531400</td>\n      <td>73.844600</td>\n    </tr>\n    <tr>\n      <td>326</td>\n      <td>Sainath Nagar</td>\n      <td>18.540400</td>\n      <td>73.928600</td>\n    </tr>\n    <tr>\n      <td>205</td>\n      <td>Kopargaon</td>\n      <td>19.884900</td>\n      <td>74.472800</td>\n    </tr>\n  </tbody>\n</table>\n</div>"
     },
     "metadata": {},
     "execution_count": 21
    }
   ],
   "source": [
    "data[data[\"longitude\"] > 73.3].sort_values(by = \"longitude\")"
   ]
  },
  {
   "cell_type": "code",
   "execution_count": 27,
   "metadata": {},
   "outputs": [],
   "source": [
    "# we'll consider places upto Khopoli rest all are outliers\n",
    "ind = data[data[\"longitude\"] > 73.334600].index\n",
    "data.drop(ind, axis=0, inplace= True)"
   ]
  },
  {
   "cell_type": "code",
   "execution_count": 28,
   "metadata": {},
   "outputs": [
    {
     "output_type": "execute_result",
     "data": {
      "text/plain": "             name   latitude  longitude\n273         Neral  19.023000  73.317500\n650  Karade Khurd  18.920902  73.323097\n25         Atgaon  19.504200  73.325200\n475       Shahpur  19.452100  73.328000\n843      Shahapur  19.452100  73.328000\n181        Karjat  18.910200  73.328300\n201       Khopoli  18.793900  73.334600",
      "text/html": "<div>\n<style scoped>\n    .dataframe tbody tr th:only-of-type {\n        vertical-align: middle;\n    }\n\n    .dataframe tbody tr th {\n        vertical-align: top;\n    }\n\n    .dataframe thead th {\n        text-align: right;\n    }\n</style>\n<table border=\"1\" class=\"dataframe\">\n  <thead>\n    <tr style=\"text-align: right;\">\n      <th></th>\n      <th>name</th>\n      <th>latitude</th>\n      <th>longitude</th>\n    </tr>\n  </thead>\n  <tbody>\n    <tr>\n      <td>273</td>\n      <td>Neral</td>\n      <td>19.023000</td>\n      <td>73.317500</td>\n    </tr>\n    <tr>\n      <td>650</td>\n      <td>Karade Khurd</td>\n      <td>18.920902</td>\n      <td>73.323097</td>\n    </tr>\n    <tr>\n      <td>25</td>\n      <td>Atgaon</td>\n      <td>19.504200</td>\n      <td>73.325200</td>\n    </tr>\n    <tr>\n      <td>475</td>\n      <td>Shahpur</td>\n      <td>19.452100</td>\n      <td>73.328000</td>\n    </tr>\n    <tr>\n      <td>843</td>\n      <td>Shahapur</td>\n      <td>19.452100</td>\n      <td>73.328000</td>\n    </tr>\n    <tr>\n      <td>181</td>\n      <td>Karjat</td>\n      <td>18.910200</td>\n      <td>73.328300</td>\n    </tr>\n    <tr>\n      <td>201</td>\n      <td>Khopoli</td>\n      <td>18.793900</td>\n      <td>73.334600</td>\n    </tr>\n  </tbody>\n</table>\n</div>"
     },
     "metadata": {},
     "execution_count": 28
    }
   ],
   "source": [
    "data[data[\"longitude\"] > 73.3].sort_values(by = \"longitude\")"
   ]
  },
  {
   "cell_type": "code",
   "execution_count": 29,
   "metadata": {},
   "outputs": [],
   "source": [
    "# data.to_csv(\"Place_Cordinates.csv\")"
   ]
  },
  {
   "cell_type": "code",
   "execution_count": 30,
   "metadata": {},
   "outputs": [],
   "source": [
    "run_5 = {\"Navy Colony\":[19.1859,72.8419],\"Geeta Nagar\":[19.2905,72.8591],\"Breach Candy\":[18.9746,72.8065],\"Bhadra Nagar\":[19.1883,73.0862],\"Agripada\":[19.0368099,73.0158234],\"Jijamata Nagar\":[19.1180,72.9977],\"Virat Nagar\":[19.287139,72.868842]}"
   ]
  },
  {
   "cell_type": "code",
   "execution_count": 31,
   "metadata": {},
   "outputs": [],
   "source": [
    "for p in run_5:\n",
    "    data.loc[data[\"name\"] == p,\"latitude\"] = run_5[p][0]\n",
    "    data.loc[data[\"name\"] == p,\"longitude\"] = run_5[p][1]"
   ]
  },
  {
   "cell_type": "code",
   "execution_count": 32,
   "metadata": {},
   "outputs": [],
   "source": [
    "data[\"latitude\"] = data[\"latitude\"].astype(\"float\")\n",
    "data[\"longitude\"] = data[\"longitude\"].astype(\"float\")"
   ]
  },
  {
   "cell_type": "code",
   "execution_count": 33,
   "metadata": {},
   "outputs": [],
   "source": [
    "# data.to_csv(\"Place_Cordinates.csv\")"
   ]
  },
  {
   "cell_type": "markdown",
   "metadata": {},
   "source": [
    "##### T"
   ]
  },
  {
   "cell_type": "code",
   "execution_count": 3,
   "metadata": {},
   "outputs": [],
   "source": [
    "df = pd.read_csv(\"Place_Cordinates.csv\")"
   ]
  },
  {
   "cell_type": "code",
   "execution_count": 5,
   "metadata": {},
   "outputs": [
    {
     "output_type": "execute_result",
     "data": {
      "text/plain": "   Unnamed: 0               name  latitude  longitude\n0           0         4 Bunglows   19.1247    72.8264\n1           1  Aarey Milk Colony   19.1510    72.8831\n2           2    Abhyudaya Nagar   18.9914    72.8442\n3           3           Adaigaon   19.0086    73.1282\n4           4          Adharwadi   19.2570    73.1240",
      "text/html": "<div>\n<style scoped>\n    .dataframe tbody tr th:only-of-type {\n        vertical-align: middle;\n    }\n\n    .dataframe tbody tr th {\n        vertical-align: top;\n    }\n\n    .dataframe thead th {\n        text-align: right;\n    }\n</style>\n<table border=\"1\" class=\"dataframe\">\n  <thead>\n    <tr style=\"text-align: right;\">\n      <th></th>\n      <th>Unnamed: 0</th>\n      <th>name</th>\n      <th>latitude</th>\n      <th>longitude</th>\n    </tr>\n  </thead>\n  <tbody>\n    <tr>\n      <th>0</th>\n      <td>0</td>\n      <td>4 Bunglows</td>\n      <td>19.1247</td>\n      <td>72.8264</td>\n    </tr>\n    <tr>\n      <th>1</th>\n      <td>1</td>\n      <td>Aarey Milk Colony</td>\n      <td>19.1510</td>\n      <td>72.8831</td>\n    </tr>\n    <tr>\n      <th>2</th>\n      <td>2</td>\n      <td>Abhyudaya Nagar</td>\n      <td>18.9914</td>\n      <td>72.8442</td>\n    </tr>\n    <tr>\n      <th>3</th>\n      <td>3</td>\n      <td>Adaigaon</td>\n      <td>19.0086</td>\n      <td>73.1282</td>\n    </tr>\n    <tr>\n      <th>4</th>\n      <td>4</td>\n      <td>Adharwadi</td>\n      <td>19.2570</td>\n      <td>73.1240</td>\n    </tr>\n  </tbody>\n</table>\n</div>"
     },
     "metadata": {},
     "execution_count": 5
    }
   ],
   "source": [
    "df.head()"
   ]
  },
  {
   "cell_type": "code",
   "execution_count": 6,
   "metadata": {},
   "outputs": [
    {
     "output_type": "execute_result",
     "data": {
      "text/plain": "     Unnamed: 0           name  latitude  longitude\n129         130  Hanuman Nagar   19.1954    72.8671",
      "text/html": "<div>\n<style scoped>\n    .dataframe tbody tr th:only-of-type {\n        vertical-align: middle;\n    }\n\n    .dataframe tbody tr th {\n        vertical-align: top;\n    }\n\n    .dataframe thead th {\n        text-align: right;\n    }\n</style>\n<table border=\"1\" class=\"dataframe\">\n  <thead>\n    <tr style=\"text-align: right;\">\n      <th></th>\n      <th>Unnamed: 0</th>\n      <th>name</th>\n      <th>latitude</th>\n      <th>longitude</th>\n    </tr>\n  </thead>\n  <tbody>\n    <tr>\n      <th>129</th>\n      <td>130</td>\n      <td>Hanuman Nagar</td>\n      <td>19.1954</td>\n      <td>72.8671</td>\n    </tr>\n  </tbody>\n</table>\n</div>"
     },
     "metadata": {},
     "execution_count": 6
    }
   ],
   "source": [
    "df[df[\"name\"] == \"Hanuman Nagar\"]"
   ]
  },
  {
   "cell_type": "code",
   "execution_count": null,
   "metadata": {},
   "outputs": [],
   "source": []
  }
 ],
 "metadata": {
  "language_info": {
   "name": "python",
   "codemirror_mode": {
    "name": "ipython",
    "version": 3
   },
   "version": "3.7.4-final"
  },
  "orig_nbformat": 2,
  "file_extension": ".py",
  "mimetype": "text/x-python",
  "name": "python",
  "npconvert_exporter": "python",
  "pygments_lexer": "ipython3",
  "version": 3,
  "kernelspec": {
   "name": "python3",
   "display_name": "Python 3"
  }
 },
 "nbformat": 4,
 "nbformat_minor": 2
}